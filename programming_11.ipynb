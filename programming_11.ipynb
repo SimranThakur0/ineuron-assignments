{
 "cells": [
  {
   "cell_type": "code",
   "execution_count": 3,
   "id": "593f1e92-6b93-4433-b738-c1f558e9d3d3",
   "metadata": {},
   "outputs": [],
   "source": [
    "#answer_1 Write a Python program to find words which are greater than given length k\n",
    "\n",
    "def Biggerthank(k,str):\n",
    "    txt = str.split()\n",
    "    Wordlist = []\n",
    "    for i in txt:\n",
    "        if len(i) > k:\n",
    "            Wordlist.append(i)\n",
    "    return Wordlist\n",
    "\n",
    "str = input(\"Enter the string : \")\n",
    "k = int(input(\"Enter the lenth K : \"))\n",
    "\n",
    "Wordlist = Biggerthank(k,str)\n",
    "\n",
    "print(\"\\nThe original string ' {} '\".format(str))\n",
    "\n",
    "print(\"Words greater than k: {}\".format(k))\n",
    "print(Wordlist)"
   ]
  },
  {
   "cell_type": "code",
   "execution_count": 7,
   "id": "38d8845d-acfe-4322-8919-61237aa95e47",
   "metadata": {},
   "outputs": [],
   "source": [
    "#answer_2 Write a Python program for removing i-th character from a string \n",
    "def remove(str, i): \n",
    "  \n",
    "    for j in range(len(str)):\n",
    "        if j == i:\n",
    "            str = str.replace(str[i], \"\")\n",
    "    return str      \n",
    "\n",
    "str = input(\"Enter the string : \")\n",
    "i = int(input(\"Enter the index : \"))      \n",
    "\n",
    "# Print the new string\n",
    "\n",
    "print(\"The new string : \", remove(str, i))"
   ]
  },
  {
   "cell_type": "code",
   "execution_count": 8,
   "id": "d1fec745-fb4c-4b72-94e5-34d7db87575a",
   "metadata": {},
   "outputs": [],
   "source": [
    "#answer_3 Write a Python program to split and join a string\n",
    "str = \"I love coding\"\n",
    "str = str.split(\" \") \n",
    "print(\"Spliting a string : \",str)\n",
    "\n",
    "\n",
    "str2 = \"-\".join(str)\n",
    "print(\"Joining a string : \",str2)\n",
    "     \n"
   ]
  },
  {
   "cell_type": "code",
   "execution_count": 11,
   "id": "5d192661-5abb-42df-9a27-529a5d51723b",
   "metadata": {},
   "outputs": [],
   "source": [
    "#answer_4 Write a Python to check if a given string is binary string or not\n",
    "def ifbinary(str):\n",
    "    binary = '01'\n",
    "    for i in range(len(str)):\n",
    "        if str[i] not in binary:\n",
    "            print('Not Binary')\n",
    "            break\n",
    "    else:\n",
    "        print('Binary')\n",
    "        \n",
    "str = input(\"Enter the string : \")\n",
    "ifbinary(str)"
   ]
  },
  {
   "cell_type": "code",
   "execution_count": 2,
   "id": "bf180842-fa6f-4133-ac89-aaaab31a99e2",
   "metadata": {},
   "outputs": [
    {
     "name": "stdin",
     "output_type": "stream",
     "text": [
      "Enter the string a :  happy day\n",
      "Enter the string b :  and merry christmas\n"
     ]
    },
    {
     "name": "stdout",
     "output_type": "stream",
     "text": [
      "The list of unCommon words :   happy day and merry christmas\n"
     ]
    }
   ],
   "source": [
    "#answer_5 Write a Python program to find uncommon words from two Strings\n",
    "def unCommon(a,b):\n",
    "    list_one = a.split()\n",
    "    list_two = b.split()\n",
    "    notcom =''\n",
    "    \n",
    "    for i in list_one:\n",
    "        if i not in list_two:\n",
    "            notcom = notcom +\" \"+ i\n",
    "    for j in list_two:\n",
    "        if j not in list_one:\n",
    "            notcom = notcom +\" \"+ j\n",
    "    return notcom\n",
    "\n",
    "a = input(\"Enter the string a : \").lower()\n",
    "b = input(\"Enter the string b : \").lower()\n",
    "\n",
    "print(\"The list of unCommon words : \", unCommon(a,b))\n"
   ]
  },
  {
   "cell_type": "code",
   "execution_count": 3,
   "id": "e0987c54-d503-4600-8afd-215dc1f5a1df",
   "metadata": {},
   "outputs": [
    {
     "name": "stdin",
     "output_type": "stream",
     "text": [
      "Enter the string :  hello how are you\n"
     ]
    },
    {
     "name": "stdout",
     "output_type": "stream",
     "text": [
      "duplicate characters in string are :  ['h', 'e', 'l', 'o', ' ']\n"
     ]
    }
   ],
   "source": [
    "#answer_6 Write a Python to find all duplicate characters in string\n",
    "str = input(\"Enter the string : \").lower()\n",
    "duplicate = []\n",
    "\n",
    "for i in str:\n",
    "    if str.count(i) > 1 :\n",
    "        if i not in duplicate:\n",
    "            duplicate.append(i)\n",
    "        \n",
    "print(\"duplicate characters in string are : \",duplicate)"
   ]
  },
  {
   "cell_type": "code",
   "execution_count": 5,
   "id": "975d8d43-98bc-441e-a6e8-8a64789cb842",
   "metadata": {},
   "outputs": [
    {
     "name": "stdin",
     "output_type": "stream",
     "text": [
      "Enter the string :  hell!#@%o\n"
     ]
    },
    {
     "name": "stdout",
     "output_type": "stream",
     "text": [
      "String hell!#@%o has special charecter/s : ['!', '#', '@', '%']\n"
     ]
    }
   ],
   "source": [
    "#answer_7 Write a Python Program to check if a string contains any special character\n",
    "\n",
    "import string\n",
    "str_char = string.punctuation\n",
    "speci_str = []\n",
    "\n",
    "str = input(\"Enter the string : \").lower()\n",
    "for i in str:\n",
    "    if i in str_char:\n",
    "        speci_str.append(i)\n",
    "if len(speci_str) > 0:\n",
    "    print(\"String {} has special charecter/s : {}\".format(str,speci_str))"
   ]
  },
  {
   "cell_type": "code",
   "execution_count": null,
   "id": "addba667-c132-44c1-bf8f-ddc2382e091c",
   "metadata": {},
   "outputs": [],
   "source": []
  }
 ],
 "metadata": {
  "kernelspec": {
   "display_name": "Python 3 (ipykernel)",
   "language": "python",
   "name": "python3"
  },
  "language_info": {
   "codemirror_mode": {
    "name": "ipython",
    "version": 3
   },
   "file_extension": ".py",
   "mimetype": "text/x-python",
   "name": "python",
   "nbconvert_exporter": "python",
   "pygments_lexer": "ipython3",
   "version": "3.10.6"
  }
 },
 "nbformat": 4,
 "nbformat_minor": 5
}

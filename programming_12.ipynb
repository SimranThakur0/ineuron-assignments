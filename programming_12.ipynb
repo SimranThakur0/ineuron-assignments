{
 "cells": [
  {
   "cell_type": "code",
   "execution_count": 3,
   "id": "88ec1e71-4381-47a4-8b01-c9e5cdd5120c",
   "metadata": {},
   "outputs": [
    {
     "name": "stdout",
     "output_type": "stream",
     "text": [
      "unique values are: {64, 1, 0, 3, 4, 6, 7, 8, 47, 17, 81, 21, 56}\n"
     ]
    }
   ],
   "source": [
    "#answer_1 Write a Python program to Extract Unique values dictionary values?\n",
    "dict1 = {'a' : [3, 64, 17, 56],\n",
    "             'b' : [1, 21, 47, 64],\n",
    "             'c' : [0, 56, 7, 81],\n",
    "             'd' : [3, 6, 4,8]}\n",
    "\n",
    "un_val = set([ele for val in dict1.values() for ele in val])\n",
    "print(\"unique values are: {}\".format(un_val))"
   ]
  },
  {
   "cell_type": "code",
   "execution_count": 6,
   "id": "15d16e10-b820-4975-a6c0-1817a4145d1f",
   "metadata": {},
   "outputs": [
    {
     "name": "stdout",
     "output_type": "stream",
     "text": [
      "Sun of all items: 7\n"
     ]
    }
   ],
   "source": [
    "#answer_2 Write a Python program to find the sum of all items in a dictionary?\n",
    "dict2 = {'a' : 0,\n",
    "             'b' : 1,\n",
    "             'c' : 2,\n",
    "             'd' : 4}\n",
    "\n",
    "sum = 0\n",
    "for i in dict2.values():\n",
    "    sum += i\n",
    "print(\"Sun of all items: {}\".format(sum))"
   ]
  },
  {
   "cell_type": "code",
   "execution_count": 8,
   "id": "de091fe9-abee-4a22-898f-af90d44e2a8c",
   "metadata": {},
   "outputs": [
    {
     "name": "stdout",
     "output_type": "stream",
     "text": [
      "dict a :  {'x': 2, 'y': 3}\n",
      "Dict b :  {'y': 5, 'z': 6}\n",
      "updated dictionary : {'x': 2, 'y': 5, 'z': 6}\n"
     ]
    }
   ],
   "source": [
    "#answer_3 Write a Python program to Merging two Dictionaries?\n",
    "one = { 'x': 2, 'y': 3}\n",
    "two = { 'y': 5, 'z': 6}\n",
    "both = one.copy()\n",
    "both.update(two)\n",
    "print(\"dict a : \", one)\n",
    "print(\"Dict b : \", two)\n",
    "print('updated dictionary : {}'.format(both))"
   ]
  },
  {
   "cell_type": "code",
   "execution_count": 10,
   "id": "b43dfb71-0285-4ae7-9cce-c1cc6c5adead",
   "metadata": {},
   "outputs": [
    {
     "name": "stdout",
     "output_type": "stream",
     "text": [
      "The original dictionary is : {'items': ['bed', 'table', 'almirah'], 'price': [12000, 5000, 8000]}\n",
      "Flattened dictionary : {'bed': 12000, 'table': 5000, 'almirah': 8000}\n"
     ]
    }
   ],
   "source": [
    "#answer_4 Write a Python program to convert key-values list to flat dictionary?\n",
    "test_dict = {'items' : ['bed', 'table', 'almirah'],\n",
    "             'price' : [12000, 5000, 8000]}\n",
    "  \n",
    "print(\"The original dictionary is : \" + str(test_dict)) \n",
    "res = dict(zip(test_dict['items'], test_dict['price']))\n",
    "print(\"Flattened dictionary : \" + str(res))"
   ]
  },
  {
   "cell_type": "code",
   "execution_count": 11,
   "id": "853d5475-1503-4e62-856d-3902747414a1",
   "metadata": {},
   "outputs": [
    {
     "name": "stdout",
     "output_type": "stream",
     "text": [
      "Ordered Dictionary  : OrderedDict([('Jan', '1'), ('Feb', '2'), ('Mar', '3')])\n"
     ]
    }
   ],
   "source": [
    "#answer_5 Write a Python program to insertion at the beginning in OrderedDict?\n",
    "from collections import OrderedDict\n",
    "\n",
    "dict_1= OrderedDict([('Feb', '2'), ('Mar', '3')])\n",
    "\n",
    "dict_1.update({'Jan':'1'})\n",
    "dict_1.move_to_end('Jan', last = False)\n",
    "\n",
    "print (\"Ordered Dictionary  : \"+str(dict_1))"
   ]
  },
  {
   "cell_type": "code",
   "execution_count": 12,
   "id": "b2e2a28a-ab82-4005-ab12-7a29b3cc0f5c",
   "metadata": {},
   "outputs": [
    {
     "name": "stdin",
     "output_type": "stream",
     "text": [
      "enter string :  simran\n",
      "Enter Pattern :  mra\n"
     ]
    },
    {
     "name": "stdout",
     "output_type": "stream",
     "text": [
      "OrderedDict([('s', None), ('i', None), ('m', None), ('r', None), ('a', None), ('n', None)])\n",
      "Pattern matched\n"
     ]
    }
   ],
   "source": [
    "#answer_6 Write a Python program to check order of character in string using OrderedDict()\n",
    "\n",
    "from collections import OrderedDict \n",
    "  \n",
    "def checkOrderofString(str, pattern): \n",
    "      \n",
    "    dict = OrderedDict.fromkeys(str) \n",
    "    print(dict)   \n",
    "    ptrlen = 0\n",
    "    for key,value in dict.items(): \n",
    "        \n",
    "        if (key == pattern[ptrlen]): \n",
    "            ptrlen = ptrlen + 1\n",
    "          \n",
    "        if (ptrlen == (len(pattern))):            \n",
    "            return 'true'\n",
    "  \n",
    "    return 'false'\n",
    "  \n",
    "string = input(\"enter string : \")\n",
    "pattern = input(\"Enter Pattern : \")\n",
    "if checkOrderofString(string,pattern):\n",
    "    print(\"Pattern matched\")\n",
    "else:\n",
    "    print(\"Pattern not matched\")"
   ]
  },
  {
   "cell_type": "code",
   "execution_count": null,
   "id": "28b08846-7af9-4cbb-b51f-c37d4eb021d3",
   "metadata": {},
   "outputs": [],
   "source": [
    "#answer_7 Write a Python program to sort Python Dictionaries by Key or Value?\n"
   ]
  }
 ],
 "metadata": {
  "kernelspec": {
   "display_name": "Python 3 (ipykernel)",
   "language": "python",
   "name": "python3"
  },
  "language_info": {
   "codemirror_mode": {
    "name": "ipython",
    "version": 3
   },
   "file_extension": ".py",
   "mimetype": "text/x-python",
   "name": "python",
   "nbconvert_exporter": "python",
   "pygments_lexer": "ipython3",
   "version": "3.10.6"
  }
 },
 "nbformat": 4,
 "nbformat_minor": 5
}

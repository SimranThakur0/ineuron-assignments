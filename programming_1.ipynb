{
 "cells": [
  {
   "cell_type": "code",
   "execution_count": 1,
   "id": "02ae70e6-113f-4072-8490-04c3aafa2af7",
   "metadata": {},
   "outputs": [
    {
     "name": "stdout",
     "output_type": "stream",
     "text": [
      "hello world\n"
     ]
    }
   ],
   "source": [
    "#answer 1\n",
    "print(\"hello world\")"
   ]
  },
  {
   "cell_type": "code",
   "execution_count": null,
   "id": "98cc1754-b5af-48ea-a2e0-173756e5e9c3",
   "metadata": {},
   "outputs": [],
   "source": [
    "#answer 2\n",
    "a= int(input(\"enter first number\"))\n",
    "b= int(input(\"enter second number\"))\n",
    "addition= a+b\n",
    "division= a/b\n",
    "print(\"addition of two numbers is\",addition)\n",
    "print(\"division of two numbers is\",division)"
   ]
  },
  {
   "cell_type": "code",
   "execution_count": null,
   "id": "c7fd709f-3d71-47c2-9ce1-e41cece31115",
   "metadata": {},
   "outputs": [],
   "source": [
    "#answer 3\n",
    "base= int(input(\"enter base of triangle\"))\n",
    "height= int(input(\"enter height of triangle\"))\n",
    "area= 1/2(base*height)\n",
    "print(\"area of triangle is\",area)"
   ]
  },
  {
   "cell_type": "code",
   "execution_count": null,
   "id": "2acd88f2-4470-422b-8c4a-7401a5b09993",
   "metadata": {},
   "outputs": [],
   "source": [
    "#answer 4\n",
    "a=7\n",
    "b=5\n",
    "a,b=b,a\n",
    "print(\"value of a after swapping: \",a)\n",
    "print(\"value of b after swapping: \",b)\n"
   ]
  },
  {
   "cell_type": "code",
   "execution_count": null,
   "id": "b6e9b7ab-b614-4219-a759-91a7e6397bb5",
   "metadata": {},
   "outputs": [],
   "source": [
    "#answer 5\n",
    "import random\n",
    "a= int(input(\"enter lower range: \"))\n",
    "b= int(input(\"enter upper range: \"))\n",
    "print(random.randint(a,b))"
   ]
  },
  {
   "cell_type": "code",
   "execution_count": null,
   "id": "317ba20f-f44d-4a9c-99a9-df6072fef368",
   "metadata": {},
   "outputs": [],
   "source": []
  }
 ],
 "metadata": {
  "kernelspec": {
   "display_name": "Python 3 (ipykernel)",
   "language": "python",
   "name": "python3"
  },
  "language_info": {
   "codemirror_mode": {
    "name": "ipython",
    "version": 3
   },
   "file_extension": ".py",
   "mimetype": "text/x-python",
   "name": "python",
   "nbconvert_exporter": "python",
   "pygments_lexer": "ipython3",
   "version": "3.10.6"
  }
 },
 "nbformat": 4,
 "nbformat_minor": 5
}

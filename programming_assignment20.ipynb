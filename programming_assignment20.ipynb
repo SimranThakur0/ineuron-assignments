{
 "cells": [
  {
   "cell_type": "code",
   "execution_count": 1,
   "id": "e36a1284-d287-48e4-927a-d583b5f78f8a",
   "metadata": {},
   "outputs": [
    {
     "data": {
      "text/plain": [
       "[1, 2, 3, 4]"
      ]
     },
     "execution_count": 1,
     "metadata": {},
     "output_type": "execute_result"
    }
   ],
   "source": [
    "'''ANSWER 1: Create a function that takes a list of strings and integers, and filters out the list so that it\n",
    "returns a list of integers only.'''\n",
    "\n",
    "def filter_list(lst):\n",
    "    int_list = []\n",
    "    for i in lst:\n",
    "        if type(i) == int:\n",
    "            int_list.append(i)\n",
    "       \n",
    "    return int_list\n",
    "\n",
    "lst = [1, 2, 3, 'a', 'b', 4]\n",
    "\n",
    "filter_list(lst)\n"
   ]
  },
  {
   "cell_type": "code",
   "execution_count": 2,
   "id": "7306e4c7-6f9f-422e-912b-53edd4bfdf87",
   "metadata": {},
   "outputs": [
    {
     "data": {
      "text/plain": [
       "[0, 1, 2, 3, 4]"
      ]
     },
     "execution_count": 2,
     "metadata": {},
     "output_type": "execute_result"
    }
   ],
   "source": [
    "'''ANSWER 2: Given a list of numbers, create a function which returns the list but with each element&#39;s\n",
    "index in the list added to itself. This means you add 0 to the number at index 0, add 1 to the\n",
    "number at index 1, etc...'''\n",
    "\n",
    "def add_indexes(lst):\n",
    "    ind = 0\n",
    "    index = []\n",
    "    for i in lst:\n",
    "        index.append(lst.index(i,ind) + i)\n",
    "        ind+=1\n",
    "    return index\n",
    "     \n",
    "\n",
    "add_indexes([0, 0, 0, 0, 0])"
   ]
  },
  {
   "cell_type": "code",
   "execution_count": 3,
   "id": "d31b3281-c3ae-484a-857d-ba9ad058c2c0",
   "metadata": {},
   "outputs": [
    {
     "name": "stdout",
     "output_type": "stream",
     "text": [
      "Volume Of Cone :  565\n"
     ]
    }
   ],
   "source": [
    "'''ANSWER 3: Create a function that takes the height and radius of a cone as arguments and returns the\n",
    "volume of the cone rounded to the nearest hundredth. See the resources tab for the formula.'''\n",
    "\n",
    "import math\n",
    "pi = math.pi\n",
    "def cone_volume(h, r):\n",
    "    return round((1 / 3) * pi * r * r * h)\n",
    " \n",
    "\n",
    "height = float(15)\n",
    "radius = float(6)\n",
    "\n",
    "print( \"Volume Of Cone : \", cone_volume(height, radius) )"
   ]
  },
  {
   "cell_type": "code",
   "execution_count": 4,
   "id": "ea349477-a64e-4a30-a753-1c1ac0d1c237",
   "metadata": {},
   "outputs": [
    {
     "name": "stdin",
     "output_type": "stream",
     "text": [
      "Enter the triangle number : 7\n"
     ]
    },
    {
     "name": "stdout",
     "output_type": "stream",
     "text": [
      "The 7th triangle has 28 dots \n"
     ]
    }
   ],
   "source": [
    "'''ANSWER 4: Write a function that gives the number of dots with its corresponding triangle number of the\n",
    "sequence.'''\n",
    "\n",
    "def triangle(n):\n",
    "    return n*(n+1)*0.5\n",
    "\n",
    "n = int(input('Enter the triangle number :'))\n",
    "print(\"The {}th triangle has {} dots \".format(n,int(triangle(n))))"
   ]
  },
  {
   "cell_type": "code",
   "execution_count": null,
   "id": "cd32e4e7-2734-4250-991b-b03ba406f2d9",
   "metadata": {},
   "outputs": [],
   "source": [
    "'''ANSWER 5: Create a function that takes a list of numbers between 1 and 10 (excluding one number) and\n",
    "returns the missing number.'''\n",
    "\n",
    "\n"
   ]
  }
 ],
 "metadata": {
  "kernelspec": {
   "display_name": "Python 3 (ipykernel)",
   "language": "python",
   "name": "python3"
  },
  "language_info": {
   "codemirror_mode": {
    "name": "ipython",
    "version": 3
   },
   "file_extension": ".py",
   "mimetype": "text/x-python",
   "name": "python",
   "nbconvert_exporter": "python",
   "pygments_lexer": "ipython3",
   "version": "3.10.6"
  }
 },
 "nbformat": 4,
 "nbformat_minor": 5
}

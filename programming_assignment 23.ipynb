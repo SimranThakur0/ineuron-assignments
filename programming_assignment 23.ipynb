{
 "cells": [
  {
   "cell_type": "code",
   "execution_count": 2,
   "id": "517dcbc1-62d0-4a8c-b7ce-db22976773f2",
   "metadata": {},
   "outputs": [
    {
     "name": "stdin",
     "output_type": "stream",
     "text": [
      "enter a number:  787\n"
     ]
    },
    {
     "name": "stdout",
     "output_type": "stream",
     "text": [
      "Reveresed Digit : 787\n",
      "Num 787 is symmetrical\n"
     ]
    }
   ],
   "source": [
    "#answer 1\n",
    "'''Create a function that takes a number as an argument and returns True or False depending\n",
    "on whether the number is symmetrical or not. A number is symmetrical when it is the same as\n",
    "its reverse.'''\n",
    "\n",
    "def is_symmetrical(num):\n",
    "    currentDigit = reversedDigit = 0\n",
    "    remainingNum = num\n",
    "    while(remainingNum != 0):\n",
    "        currentDigit = remainingNum % 10\n",
    "        reversedDigit = reversedDigit * 10 + currentDigit\n",
    "        remainingNum = remainingNum // 10\n",
    "    print('Reveresed Digit :',reversedDigit)\n",
    "        \n",
    "    if reversedDigit == num:\n",
    "        print('Num {} is symmetrical'.format(num))\n",
    "    else:\n",
    "        print('Num {} is not symmetrical'.format(num))\n",
    "        \n",
    "\n",
    "        \n",
    "num = int(input(\"enter a number: \"))        \n",
    "res = is_symmetrical(num)\n"
   ]
  },
  {
   "cell_type": "code",
   "execution_count": 6,
   "id": "4f048656-3e6e-4c09-872b-a14875f89e9d",
   "metadata": {},
   "outputs": [
    {
     "name": "stdin",
     "output_type": "stream",
     "text": [
      "enter a number:  7, 8,9\n"
     ]
    },
    {
     "name": "stdout",
     "output_type": "stream",
     "text": [
      "The product of numbers is:  504\n"
     ]
    }
   ],
   "source": [
    "#answer 2\n",
    "'''Given a string of numbers separated by a comma and space, return the product of the\n",
    "numbers.'''\n",
    "\n",
    "def multiply_nums(s):\n",
    "    s = s.replace(' ', \"\")\n",
    "    s = s.split(',')\n",
    "    sum = 1\n",
    "    for i in s:\n",
    "        sum = sum * int(i)\n",
    "    return sum\n",
    "     \n",
    "num = input(\"enter a number: \")       \n",
    "res = multiply_nums(num)\n",
    "print(\"The product of numbers is: \",res)"
   ]
  },
  {
   "cell_type": "code",
   "execution_count": 7,
   "id": "dfe1f38b-01e7-4aba-9295-1dfcbebe2b57",
   "metadata": {},
   "outputs": [
    {
     "name": "stdin",
     "output_type": "stream",
     "text": [
      "enter a number:  678\n"
     ]
    },
    {
     "name": "stdout",
     "output_type": "stream",
     "text": [
      "The product of numbers is:  364964\n"
     ]
    }
   ],
   "source": [
    "#answer 3\n",
    "'''Create a function that squares every digit of a number.'''\n",
    "\n",
    "def square_digits(num):\n",
    "    z = ''.join(str(int(i)**2) for i in str(num))\n",
    "    return int(z)\n",
    "     \n",
    "num = int(input(\"enter a number: \"))  \n",
    "res = square_digits(num)\n",
    "print(\"The product of numbers is: \",res)\n"
   ]
  },
  {
   "cell_type": "code",
   "execution_count": 3,
   "id": "8656ecd3-5897-4e07-9917-dfc995b07da5",
   "metadata": {},
   "outputs": [
    {
     "name": "stdout",
     "output_type": "stream",
     "text": [
      "[1, 3, 5]\n"
     ]
    }
   ],
   "source": [
    "#answer 4\n",
    "'''Create a function that sorts a list and removes all duplicate items from it.'''\n",
    "\n",
    "def setify(lst):\n",
    "    return list(set(lst))\n",
    "\n",
    "res = setify([1, 3, 3, 5, 5])\n",
    "print(res)"
   ]
  },
  {
   "cell_type": "code",
   "execution_count": 4,
   "id": "5a2f4fdd-405a-418c-8383-6e9a7d6aef17",
   "metadata": {},
   "outputs": [
    {
     "name": "stdin",
     "output_type": "stream",
     "text": [
      "enter a number:  67566\n"
     ]
    },
    {
     "name": "stdout",
     "output_type": "stream",
     "text": [
      "The mean of numbers is:  6\n"
     ]
    }
   ],
   "source": [
    "#answer 5\n",
    "'''Create a function that returns the mean of all digits.'''\n",
    "def mean(n): \n",
    "    N = len(str(n)) \n",
    "    sum = mean = 0\n",
    "    \n",
    "    for digit in str(n):\n",
    "        sum += int(digit)       \n",
    "    return int(sum/N)\n",
    "     \n",
    "num = int(input(\"enter a number: \"))  \n",
    "res = mean(num)\n",
    "print(\"The mean of numbers is: \",res)"
   ]
  },
  {
   "cell_type": "code",
   "execution_count": null,
   "id": "e875c22a-ced8-4e08-a3a7-f19e7786beec",
   "metadata": {},
   "outputs": [],
   "source": []
  }
 ],
 "metadata": {
  "kernelspec": {
   "display_name": "Python 3 (ipykernel)",
   "language": "python",
   "name": "python3"
  },
  "language_info": {
   "codemirror_mode": {
    "name": "ipython",
    "version": 3
   },
   "file_extension": ".py",
   "mimetype": "text/x-python",
   "name": "python",
   "nbconvert_exporter": "python",
   "pygments_lexer": "ipython3",
   "version": "3.10.6"
  }
 },
 "nbformat": 4,
 "nbformat_minor": 5
}

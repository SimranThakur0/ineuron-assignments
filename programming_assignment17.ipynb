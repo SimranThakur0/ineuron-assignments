{
 "cells": [
  {
   "cell_type": "code",
   "execution_count": 2,
   "id": "5005fad3-4032-49b2-942d-c81c169f6848",
   "metadata": {},
   "outputs": [
    {
     "name": "stdin",
     "output_type": "stream",
     "text": [
      "Enter a :  4\n",
      "Enter b :  18\n",
      "Enter c :  4\n"
     ]
    },
    {
     "name": "stdout",
     "output_type": "stream",
     "text": [
      "the sum is:  40\n"
     ]
    }
   ],
   "source": [
    "''' ANSWER : 1 Create a function that takes three arguments a, b, c and returns the sum of the\n",
    "numbers that are evenly divided by c from the range a, b inclusive.'''\n",
    "\n",
    "def abc(a, b, c):     \n",
    "    sum = 0\n",
    "    for i in range(a, b + 1): \n",
    "        if (i % c == 0):\n",
    "            sum += i \n",
    "    return sum\n",
    "a = int(input('Enter a : '))\n",
    "b = int(input('Enter b : '))\n",
    "c = int(input('Enter c : '))\n",
    "print(\"the sum is: \",abc(a, b, c))"
   ]
  },
  {
   "cell_type": "code",
   "execution_count": 3,
   "id": "ba3dd71f-29a1-4992-a4da-ba765495e49a",
   "metadata": {},
   "outputs": [
    {
     "name": "stdout",
     "output_type": "stream",
     "text": [
      "False\n",
      "False\n",
      "True\n"
     ]
    }
   ],
   "source": [
    "''' ANSWER : 2 Create a function that returns True if a given inequality expression is correct and\n",
    "False otherwise.'''\n",
    "\n",
    "def correct_signs ( txt ) : \n",
    "    return eval ( txt )\n",
    "print(correct_signs(\"3 > 7 < 11\"))\n",
    "print(correct_signs(\"13 > 44 > 33 > 1\"))\n",
    "print(correct_signs(\"1 < 2 < 6 < 9 > 3\"))\n"
   ]
  },
  {
   "cell_type": "code",
   "execution_count": 4,
   "id": "4f630303-938f-43d5-a95d-831ce2b6ef8a",
   "metadata": {},
   "outputs": [
    {
     "name": "stdin",
     "output_type": "stream",
     "text": [
      "enter a string :  simran\n",
      "enter a vowel replacing string :  @\n"
     ]
    },
    {
     "name": "stdout",
     "output_type": "stream",
     "text": [
      "\n",
      "Given String: simran\n",
      "Given Specified Character: @\n",
      "Afer replacing vowels with the specified character: s@mr@n\n"
     ]
    }
   ],
   "source": [
    "'''ANSWER : 3 Create a function that replaces all the vowels in a string with a specified character.'''\n",
    "\n",
    "def replace_vowels(str, s):\n",
    "    vowels = 'AEIOUaeiou'\n",
    "    for ele in vowels:  \n",
    "        str = str.replace(ele, s)  \n",
    "    return str\n",
    "  \n",
    "input_str = input(\"enter a string : \")\n",
    "s = input(\"enter a vowel replacing string : \")\n",
    "print(\"\\nGiven String:\", input_str)\n",
    "print(\"Given Specified Character:\", s)\n",
    "print(\"Afer replacing vowels with the specified character:\",replace_vowels(input_str, s))"
   ]
  },
  {
   "cell_type": "code",
   "execution_count": 5,
   "id": "3fe7840f-81bd-4a50-83b6-0c409adee96b",
   "metadata": {},
   "outputs": [
    {
     "name": "stdin",
     "output_type": "stream",
     "text": [
      "enter a number : 6\n"
     ]
    },
    {
     "name": "stdout",
     "output_type": "stream",
     "text": [
      "Factorial of 6 is 720\n"
     ]
    }
   ],
   "source": [
    "''' ANSWER : 4 Write a function that calculates the factorial of a number recursively.'''\n",
    "\n",
    "def factorial(n):     \n",
    "    if n == 0:\n",
    "        return 1\n",
    "    else:\n",
    "        return n * factorial(n-1)\n",
    "\n",
    "num = int(input('enter a number :'))\n",
    "print(\"Factorial of\", num, \"is\", factorial(num))"
   ]
  },
  {
   "cell_type": "code",
   "execution_count": 6,
   "id": "432ecaf3-83a3-44ce-be3e-64da1fd88be4",
   "metadata": {},
   "outputs": [
    {
     "name": "stdin",
     "output_type": "stream",
     "text": [
      "enter string 1:  simran\n",
      "enter string 2:  stmsat\n"
     ]
    },
    {
     "name": "stdout",
     "output_type": "stream",
     "text": [
      "the hamming distance is:  3\n"
     ]
    }
   ],
   "source": [
    "'''ANSWER : 5 Create a function that computes the hamming distance between two strings.'''\n",
    "\n",
    "def hamming_distance(str1, str2):\n",
    "    i = 0\n",
    "    count = 0\n",
    " \n",
    "    while(i < len(str1)):\n",
    "        if(str1[i] != str2[i]):\n",
    "            count += 1\n",
    "        i += 1\n",
    "    return count\n",
    " \n",
    "\n",
    "str1 = input(\"enter string 1: \")\n",
    "str2 = input(\"enter string 2: \")\n",
    "\n",
    "print(\"the hamming distance is: \",hamming_distance(str1, str2))"
   ]
  },
  {
   "cell_type": "code",
   "execution_count": null,
   "id": "a6d4e798-4000-4979-9a99-95759cb2d738",
   "metadata": {},
   "outputs": [],
   "source": []
  }
 ],
 "metadata": {
  "kernelspec": {
   "display_name": "Python 3 (ipykernel)",
   "language": "python",
   "name": "python3"
  },
  "language_info": {
   "codemirror_mode": {
    "name": "ipython",
    "version": 3
   },
   "file_extension": ".py",
   "mimetype": "text/x-python",
   "name": "python",
   "nbconvert_exporter": "python",
   "pygments_lexer": "ipython3",
   "version": "3.10.6"
  }
 },
 "nbformat": 4,
 "nbformat_minor": 5
}

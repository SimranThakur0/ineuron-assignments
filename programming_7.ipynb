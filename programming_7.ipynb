{
 "cells": [
  {
   "cell_type": "code",
   "execution_count": 1,
   "id": "0053f2ec-774d-469b-a7fa-373e5fd21281",
   "metadata": {},
   "outputs": [
    {
     "name": "stdin",
     "output_type": "stream",
     "text": [
      "Number of elements in array: 6\n",
      " 4\n",
      " 6\n",
      " 9\n",
      " 8\n",
      " 9\n",
      " 7\n"
     ]
    },
    {
     "name": "stdout",
     "output_type": "stream",
     "text": [
      "Sum of all the elements of an array: 43\n"
     ]
    }
   ],
   "source": [
    "#answer_1  Write a Python Program to find sum of array\n",
    "\n",
    "arr = [] \n",
    "sum=0\n",
    "n=int(input(\"Number of elements in array:\"))\n",
    "for i in range(0,n):\n",
    "   l=int(input())\n",
    "   arr.append(l)  \n",
    "for i in range(0, len(arr)):    \n",
    "   sum = sum + arr[i]   \n",
    "     \n",
    "print(\"Sum of all the elements of an array: \" + str(sum))  "
   ]
  },
  {
   "cell_type": "code",
   "execution_count": 6,
   "id": "d6148dbe-b586-4910-8acc-c3a9a50067ac",
   "metadata": {},
   "outputs": [
    {
     "name": "stdin",
     "output_type": "stream",
     "text": [
      "Number of elements in array: 2\n",
      " 89\n",
      " 0\n"
     ]
    },
    {
     "name": "stdout",
     "output_type": "stream",
     "text": [
      "the maximum element in the array is:  89\n"
     ]
    }
   ],
   "source": [
    "#answer_2 Write a Python Program to find largest element in an array\n",
    "arr = [] \n",
    "n=int(input(\"Number of elements in array:\"))\n",
    "for i in range(0,n):\n",
    "   l=int(input())\n",
    "   arr.append(l) \n",
    "max=arr[0]\n",
    "for i in range (0,len(arr)):\n",
    "    if arr[i] > max:\n",
    "        max = arr[i]\n",
    "print(\"the maximum element in the array is: \",max)\n",
    "    "
   ]
  },
  {
   "cell_type": "code",
   "execution_count": 9,
   "id": "d7d630dc-111b-4d1b-b654-534958e1f813",
   "metadata": {},
   "outputs": [
    {
     "name": "stdin",
     "output_type": "stream",
     "text": [
      "enter how many places you want to rotate the array:  4\n"
     ]
    },
    {
     "name": "stdout",
     "output_type": "stream",
     "text": [
      "Array after left rotation is:  [5, 6, 7, 1, 2, 3, 4]\n"
     ]
    }
   ],
   "source": [
    "#answer_3 Write a Python Program for array rotation\n",
    "def rotateArray(a,d):\n",
    "    temp = []\n",
    "    for i in range(d,len(a)):\n",
    "        temp.append(a[i])\n",
    "    i = 0\n",
    "    for i in range (0,d):\n",
    "        temp.append(a[i])\n",
    "    a = temp.copy()\n",
    "    return a\n",
    " \n",
    "arr = [1, 2, 3, 4, 5, 6, 7]\n",
    "r = int(input(\"enter how many places you want to rotate the array: \"))\n",
    "print(\"Array after left rotation is: \", end=' ')\n",
    "print(rotateArray(arr,r))"
   ]
  },
  {
   "cell_type": "code",
   "execution_count": 17,
   "id": "00056c7f-1a09-4d1e-af1c-0b312198652d",
   "metadata": {},
   "outputs": [
    {
     "name": "stdin",
     "output_type": "stream",
     "text": [
      "enter the position you want to split array at:  5\n"
     ]
    },
    {
     "name": "stdout",
     "output_type": "stream",
     "text": [
      "6 7 8 1 2 3 4 5 "
     ]
    }
   ],
   "source": [
    "#answer_4 Write a Python Program to Split the array and add the first part to the end\n",
    "\n",
    "def splitArr(a, n, k):\n",
    "    b = a[:k]\n",
    "    return (a[k::]+b[::])\n",
    " \n",
    "arr = [1,2,3,4,5,6,7,8]\n",
    "n = len(arr)\n",
    "pos = int(input(\"enter the position you want to split array at: \"))\n",
    "arr = splitArr(arr, n, pos)\n",
    "for i in range(0, n):\n",
    "    print(arr[i], end=' ')\n",
    "\n",
    "    \n",
    "    "
   ]
  },
  {
   "cell_type": "code",
   "execution_count": null,
   "id": "11d33d30-6b64-413d-aed7-9499681f99e6",
   "metadata": {},
   "outputs": [
    {
     "name": "stdin",
     "output_type": "stream",
     "text": [
      "Number of elements in array: 4\n",
      " 5\n",
      " 8\n",
      " 9\n"
     ]
    }
   ],
   "source": [
    "#answer_5 Write a Python Program to check if given array is Monotonic\n",
    "\n",
    "def is_Monotonic(A):\n",
    "    if all(A[i] <= A[i+1] for i in range (len(A)-1)):\n",
    "        return \"Monotonic increasing\"\n",
    "    \n",
    "    elif all(A[i] >= A[i+1] for i in range (len(A)-1)):\n",
    "        return \"Monotonic decreasing\"\n",
    "    \n",
    "    return \"not Monotonic array\"\n",
    "\n",
    "arr=[]\n",
    "n=int(input(\"Number of elements in array:\"))\n",
    "for i in range(0,n):\n",
    "   l=int(input())\n",
    "   arr.append(l) \n",
    "print(\"Input array is \"+is_Monotonic(arr))\n",
    "    \n",
    "                                    \n",
    "    "
   ]
  },
  {
   "cell_type": "code",
   "execution_count": null,
   "id": "fac671d4-6305-4ced-bf0b-a52c23d46150",
   "metadata": {},
   "outputs": [],
   "source": []
  }
 ],
 "metadata": {
  "kernelspec": {
   "display_name": "Python 3 (ipykernel)",
   "language": "python",
   "name": "python3"
  },
  "language_info": {
   "codemirror_mode": {
    "name": "ipython",
    "version": 3
   },
   "file_extension": ".py",
   "mimetype": "text/x-python",
   "name": "python",
   "nbconvert_exporter": "python",
   "pygments_lexer": "ipython3",
   "version": "3.10.6"
  }
 },
 "nbformat": 4,
 "nbformat_minor": 5
}

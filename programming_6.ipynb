{
 "cells": [
  {
   "cell_type": "code",
   "execution_count": 3,
   "id": "57df176a-3eaf-4415-909c-ea2a98bf2932",
   "metadata": {},
   "outputs": [
    {
     "name": "stdin",
     "output_type": "stream",
     "text": [
      "enter the number of terms you want to print fibonacci sequence for:  7\n"
     ]
    },
    {
     "name": "stdout",
     "output_type": "stream",
     "text": [
      "Fibonacci sequence:\n",
      "0\n",
      "1\n",
      "1\n",
      "2\n",
      "3\n",
      "5\n",
      "8\n"
     ]
    }
   ],
   "source": [
    " #answer_1  Write a Python Program to Display Fibonacci Sequence Using Recursion\n",
    "def recur_fibo(n):\n",
    "   if n <= 1:\n",
    "       return n\n",
    "   else:\n",
    "       return(recur_fibo(n-1) + recur_fibo(n-2))\n",
    "\n",
    "nterms = int(input(\"enter the number of terms you want to print fibonacci sequence for: \"))\n",
    "if nterms <= 0:\n",
    "   print(\"Plese enter a positive integer\")\n",
    "else:\n",
    "   print(\"Fibonacci sequence:\")\n",
    "   for i in range(nterms):\n",
    "       print(recur_fibo(i))"
   ]
  },
  {
   "cell_type": "code",
   "execution_count": 4,
   "id": "2f2bf775-5c9b-49b4-969a-573ebad4ec7e",
   "metadata": {},
   "outputs": [
    {
     "name": "stdin",
     "output_type": "stream",
     "text": [
      "enter the number:  7\n"
     ]
    },
    {
     "name": "stdout",
     "output_type": "stream",
     "text": [
      "The factorial of 7 is 5040\n"
     ]
    }
   ],
   "source": [
    "#answer_2   Write a Python Program to Find Factorial of Number Using Recursion?\n",
    "\n",
    "def recur_factorial(n):\n",
    "   if n == 1:\n",
    "       return n\n",
    "   else:\n",
    "       return n*recur_factorial(n-1)\n",
    "\n",
    "num = int(input(\"enter the number: \"))\n",
    "if num < 0:\n",
    "   print(\"Sorry, factorial does not exist for negative numbers\")\n",
    "elif num == 0:\n",
    "   print(\"The factorial of 0 is 1\")\n",
    "else:\n",
    "   print(\"The factorial of\", num, \"is\", recur_factorial(num))"
   ]
  },
  {
   "cell_type": "code",
   "execution_count": 6,
   "id": "c40c29f8-1d5d-4888-b4e7-db97a7f6c352",
   "metadata": {},
   "outputs": [
    {
     "name": "stdin",
     "output_type": "stream",
     "text": [
      "Enter the height in cm:  170\n",
      "Enter the weight in kg:  60\n"
     ]
    },
    {
     "name": "stdout",
     "output_type": "stream",
     "text": [
      "Your Body Mass Index is 20.761245674740486\n",
      "You are healthy\n"
     ]
    }
   ],
   "source": [
    "#answer_3  Write a Python Program to calculate your Body Mass Index?\n",
    "\n",
    "height = float(input(\"Enter the height in cm: \"))  \n",
    "weight = float(input(\"Enter the weight in kg: \"))  \n",
    "\n",
    "BMI = weight / (height/100)**2  \n",
    "\n",
    "print(\"Your Body Mass Index is\", BMI)  \n",
    "if BMI <= 18.5:  \n",
    "    print(\"You are underweight\")  \n",
    "elif BMI <= 24.9:  \n",
    "    print(\"You are healthy\")  \n",
    "elif BMI <= 29.9:  \n",
    "    print(\"You are over weight\")  \n",
    "else:  \n",
    "    print(\"You are obese\")  "
   ]
  },
  {
   "cell_type": "code",
   "execution_count": 7,
   "id": "ca65cfe3-21f4-477f-91c6-cd766a37ddf8",
   "metadata": {},
   "outputs": [
    {
     "name": "stdin",
     "output_type": "stream",
     "text": [
      "enter a number 2\n"
     ]
    },
    {
     "name": "stdout",
     "output_type": "stream",
     "text": [
      "Natural logarithm of 2 is: 2.6390573296152584\n"
     ]
    }
   ],
   "source": [
    "#answer_4  Write a Python Program to calculate the natural logarithm of any number\n",
    "import math\n",
    "num=int(input(\"enter a number\"))\n",
    "print (\"Natural logarithm of\",num,\"is: \", end=\"\")\n",
    "print (math.log(num))\n"
   ]
  },
  {
   "cell_type": "code",
   "execution_count": 10,
   "id": "b3584e24-e94d-4a35-bcfa-53a9df08cea8",
   "metadata": {},
   "outputs": [
    {
     "name": "stdin",
     "output_type": "stream",
     "text": [
      "enter a nautral number 5\n"
     ]
    },
    {
     "name": "stdout",
     "output_type": "stream",
     "text": [
      "225\n"
     ]
    }
   ],
   "source": [
    "#answer_5 Write a Python Program for cube sum of first n natural numbers\n",
    "num= int(input(\"enter a nautral number\")) \n",
    "sum= 0 \n",
    "for i in range(1,num+1):\n",
    "    sum=sum+pow(i,3) \n",
    "print(sum)"
   ]
  },
  {
   "cell_type": "code",
   "execution_count": null,
   "id": "508702c0-8bb6-43c1-9f8d-0634ee45ffc0",
   "metadata": {},
   "outputs": [],
   "source": []
  }
 ],
 "metadata": {
  "kernelspec": {
   "display_name": "Python 3 (ipykernel)",
   "language": "python",
   "name": "python3"
  },
  "language_info": {
   "codemirror_mode": {
    "name": "ipython",
    "version": 3
   },
   "file_extension": ".py",
   "mimetype": "text/x-python",
   "name": "python",
   "nbconvert_exporter": "python",
   "pygments_lexer": "ipython3",
   "version": "3.10.6"
  }
 },
 "nbformat": 4,
 "nbformat_minor": 5
}

{
 "cells": [
  {
   "cell_type": "code",
   "execution_count": 10,
   "id": "064a9b14-995a-4fdb-ad24-df4c1a9947e8",
   "metadata": {},
   "outputs": [
    {
     "name": "stdin",
     "output_type": "stream",
     "text": [
      "enter a number:  175\n"
     ]
    },
    {
     "name": "stdout",
     "output_type": "stream",
     "text": [
      "175 is disarium number\n"
     ]
    }
   ],
   "source": [
    "# answer_1 Write a Python program to check if the given number is a Disarium Number?\n",
    "\n",
    "'''A number is said to be the Disarium number when the sum of its digit raised to the power of their respective positions\n",
    "becomes equal to the number itself. For example, 175 is a Disarium number as follows:\n",
    "          1**1+ 7**2 + 5**3 = 1+ 49 + 125 = 175'''\n",
    "\n",
    "def disarium(num):\n",
    "    temp = 0\n",
    "    for i in range(len(str(num))):\n",
    "        temp += int(str(num)[i]) ** (i + 1)\n",
    "    if temp == num:\n",
    "        print(num,\"is disarium number\")\n",
    "    else:\n",
    "        print(num,\"is not disarium number\")\n",
    "    \n",
    "        \n",
    "\n",
    "num = int(input(\"enter a number: \"))\n",
    "res= disarium(num)\n",
    "\n"
   ]
  },
  {
   "cell_type": "code",
   "execution_count": 12,
   "id": "12ac22f3-956b-4b81-8d1d-8856139eee19",
   "metadata": {},
   "outputs": [
    {
     "name": "stdout",
     "output_type": "stream",
     "text": [
      "Disarium no in range 1 to 100\n",
      "[1, 2, 3, 4, 5, 6, 7, 8, 9, 89]\n"
     ]
    }
   ],
   "source": [
    "#answer_2  Write a Python program to print all disarium numbers between 1 to 100?\n",
    "\n",
    "def Disarium(num):\n",
    "    sum = 0\n",
    "    while(num>0):\n",
    "        l= len(str(num))\n",
    "        no = num%10\n",
    "        sum= sum + no**l   \n",
    "        l-=1\n",
    "        num = num//10\n",
    "    return sum\n",
    "\n",
    "print(\"Disarium no in range 1 to 100\")\n",
    "\n",
    "disno = []\n",
    "\n",
    "for i in range(1,101):\n",
    "    sum = 0\n",
    "    sum = Disarium(i)\n",
    "    if sum == i:\n",
    "        disno.append(i)        \n",
    "print(disno)\n"
   ]
  },
  {
   "cell_type": "code",
   "execution_count": 13,
   "id": "e8c04310-002e-4f23-926b-ba6af95b05e5",
   "metadata": {},
   "outputs": [
    {
     "name": "stdin",
     "output_type": "stream",
     "text": [
      "Enter the number : 125\n"
     ]
    },
    {
     "name": "stdout",
     "output_type": "stream",
     "text": [
      "125  Is a Unhappy Number\n"
     ]
    }
   ],
   "source": [
    "#answer_3  Write a Python program to check if the given number is Happy Number?\n",
    "'''A number is said to be happy if it yields 1 when replaced by the sum of squares of its digits repeatedly.\n",
    "If this process results in an endless cycle of numbers containing 4, then the number will be an unhappy number. '''\n",
    "\n",
    "def Happy(num):\n",
    "    sum = 0\n",
    "    while(num>0):\n",
    "        dig = num%10\n",
    "        sum= sum + dig**2        \n",
    "        num = num//10\n",
    "    return sum\n",
    "\n",
    "num = int(input(\"Enter the number :\"))\n",
    "result = num\n",
    "\n",
    "\n",
    "while (result != 1 and result != 4):\n",
    "    result = Happy(result)\n",
    "\n",
    "if result == 1:\n",
    "    print(num,\"Is a Happy Number\")\n",
    "else:\n",
    "    print(num,\" Is a Unhappy Number\")\n"
   ]
  },
  {
   "cell_type": "code",
   "execution_count": 14,
   "id": "adffecac-5a7b-4d70-bc80-caadd78ea07c",
   "metadata": {},
   "outputs": [
    {
     "name": "stdout",
     "output_type": "stream",
     "text": [
      "Happy numbers in range 1 to 100\n",
      "[1, 7, 10, 13, 19, 23, 28, 31, 32, 44, 49, 68, 70, 79, 82, 86, 91, 94, 97, 100]\n"
     ]
    }
   ],
   "source": [
    "#answer_4  Write a Python program to print all happy numbers between 1 and 100?\n",
    "\n",
    "def Happy(num):\n",
    "    sum = 0\n",
    "    while(num>0):\n",
    "        dig = num%10\n",
    "        sum= sum + dig**2        \n",
    "        num = num//10\n",
    "    return sum\n",
    "\n",
    "print(\"Happy numbers in range 1 to 100\")\n",
    "result=num=i=0\n",
    "happyNo = []\n",
    "for i in range(1,101):\n",
    "    result = i\n",
    "    while (result != 1 and result != 4):\n",
    "        result = Happy(result)    \n",
    "    if result == 1:\n",
    "        happyNo.append(i)\n",
    "print(happyNo)"
   ]
  },
  {
   "cell_type": "code",
   "execution_count": null,
   "id": "02886939-31f2-458f-baba-c3acb32a7152",
   "metadata": {},
   "outputs": [],
   "source": [
    "#answer_5  Write a Python program to determine whether the given number is a Harshad Number?\n",
    "\n",
    "#if a number is divisible by the sum of its digits, then it will be known as a Harshad Number\n",
    "\n",
    "def digsum(num):\n",
    "    sum = 0\n",
    "    while(num>0):\n",
    "        dig = num%10\n",
    "        sum= sum + dig      \n",
    "        num = num//10\n",
    "    return sum\n",
    "\n",
    "num = int(input(\"Enter no. :\"))\n",
    "sum = digsum(num)\n",
    "\n",
    "if num % sum == 0:\n",
    "    print(num,\"Is a Harshad number\")\n",
    "else:\n",
    "    print(num,\"Is not a Harshad number\")"
   ]
  },
  {
   "cell_type": "code",
   "execution_count": null,
   "id": "85777c25-de67-420d-be50-e6e6208426cf",
   "metadata": {},
   "outputs": [],
   "source": [
    "#answer_6  Write a Python program to print all pronic numbers between 1 and 100?\n",
    "\n",
    "def PronicNo(num):\n",
    "    Pronic = False\n",
    "    for i in range(1,num+1):\n",
    "        if i*(i+1) == num:\n",
    "            Pronic = True\n",
    "            break\n",
    "    return Pronic\n",
    "\n",
    "print(\"Pronic numbers in range 1 to 100\")\n",
    "pronicno = []\n",
    "for i in range(1,101):\n",
    "    if PronicNo(i):\n",
    "        pronicno.append(i)\n",
    "print(pronicno)"
   ]
  }
 ],
 "metadata": {
  "kernelspec": {
   "display_name": "Python 3 (ipykernel)",
   "language": "python",
   "name": "python3"
  },
  "language_info": {
   "codemirror_mode": {
    "name": "ipython",
    "version": 3
   },
   "file_extension": ".py",
   "mimetype": "text/x-python",
   "name": "python",
   "nbconvert_exporter": "python",
   "pygments_lexer": "ipython3",
   "version": "3.10.6"
  }
 },
 "nbformat": 4,
 "nbformat_minor": 5
}

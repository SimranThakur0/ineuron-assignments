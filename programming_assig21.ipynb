{
 "cells": [
  {
   "cell_type": "code",
   "execution_count": 1,
   "id": "7fd6a79b-3647-4215-b50b-5afdba49ae2e",
   "metadata": {},
   "outputs": [
    {
     "name": "stdin",
     "output_type": "stream",
     "text": [
      "enter a number:  6\n"
     ]
    },
    {
     "name": "stdout",
     "output_type": "stream",
     "text": [
      "The final result is:  [2, 3, 4, 5, 6]\n"
     ]
    }
   ],
   "source": [
    "#answer_1\n",
    "\"\"\"Write a function that takes a list and a number as arguments. Add the number to the end of\n",
    "the list, then remove the first element of the list. The function should then return the updated list.\"\"\"\n",
    "\n",
    "def lst_editor(lst, n):\n",
    "    if len(list1) == 0:\n",
    "        print(\"No list has been selected\")\n",
    "    else:\n",
    "        if len(lst) > 0:\n",
    "            lst.append(num)\n",
    "            return lst[1:]\n",
    "\n",
    "list1 = [1, 2, 3, 4, 5]\n",
    "num = int(input(\"enter a number: \"))\n",
    "result = lst_editor(list1, num)\n",
    "print(\"The final result is: \", result)"
   ]
  },
  {
   "cell_type": "code",
   "execution_count": 4,
   "id": "42f5e8de-ce63-4763-91ff-6ae1f1edfbe1",
   "metadata": {},
   "outputs": [
    {
     "name": "stdout",
     "output_type": "stream",
     "text": [
      "sum of people's budgets is:  65700\n"
     ]
    }
   ],
   "source": [
    "#answer_2\n",
    "\"\"\"Create the function that takes a list of dictionaries and returns the sum of people's budgets.\"\"\"\n",
    "\n",
    "def get_budgets(listDict):\n",
    "    sum = 0\n",
    "    for dc in listDict:\n",
    "        for k,v in dc.items():\n",
    "            if k == 'budget':\n",
    "                sum = sum + v\n",
    "    return sum\n",
    "     \n",
    "\n",
    "total = get_budgets([\n",
    "{ 'name': 'John', 'age': 21, 'budget': 23000 },\n",
    "{ 'name': 'Steve', 'age': 32, 'budget': 40000 },\n",
    "{ 'name': 'Martin', 'age': 16, 'budget': 2700 }\n",
    "])\n",
    "\n",
    "print(\"sum of people's budgets is: \",total)"
   ]
  },
  {
   "cell_type": "code",
   "execution_count": 5,
   "id": "da0e4c0e-1a8c-47eb-86b7-6a5c01fb5c68",
   "metadata": {},
   "outputs": [
    {
     "name": "stdin",
     "output_type": "stream",
     "text": [
      "enter a string:  simran\n"
     ]
    },
    {
     "name": "stdout",
     "output_type": "stream",
     "text": [
      "the string with its letters in alphabetical order is:  aimnrs\n"
     ]
    }
   ],
   "source": [
    "#answer_3\n",
    "\"\"\" Create a function that takes a string and returns a string with its letters in alphabetical order.\"\"\"\n",
    "\n",
    "def alphabetic(str):\n",
    "    return ''.join(sorted(str))\n",
    "     \n",
    "\n",
    "str = input(\"enter a string: \")\n",
    "res = print(\"the string with its letters in alphabetical order is: \", alphabetic(str))\n"
   ]
  },
  {
   "cell_type": "code",
   "execution_count": 7,
   "id": "22f8153b-9b53-4755-b940-dabd9b461a4c",
   "metadata": {},
   "outputs": [
    {
     "name": "stdout",
     "output_type": "stream",
     "text": [
      "the value at the end of term rounded to the nearest cent is:  18193.97\n"
     ]
    }
   ],
   "source": [
    "#answer_4\n",
    "\"\"\"Suppose that you invest $10,000 for 10 years at an interest rate of 6% compounded monthly.\n",
    "What will be the value of your investment at the end of the 10 year period? Create a function that accepts the principal p,\n",
    "the term in years t, the interest rate r, and the number of compounding periods per year n.The function returns the value \n",
    "at the end of term rounded to the nearest cent. \"\"\"\n",
    "\n",
    "def compound_interest(amt, years, intrest, compPeriod):\n",
    "    future_value = amt *(1 + (intrest/compPeriod)) ** (years * compPeriod)\n",
    "    return round(future_value,2)\n",
    "     \n",
    "\n",
    "result = compound_interest(10000, 10, 0.06, 12)\n",
    "print(\"the value at the end of term rounded to the nearest cent is: \",result)\n"
   ]
  },
  {
   "cell_type": "code",
   "execution_count": null,
   "id": "30be91f3-3731-47e2-bd17-1a5467a81ade",
   "metadata": {},
   "outputs": [],
   "source": [
    "#answer_5\n",
    "\"\"\" Write a function that takes a list of elements and returns only the integers.\"\"\"\n",
    "def return_only_integer(lst):\n",
    "    int_list = []\n",
    "    for i in lst:\n",
    "        if type(i) == int:\n",
    "            int_list.append(i)\n",
    "    return int_list\n",
    "     \n",
    "\n",
    "\n",
    "result = return_only_integer([9, 2, 'space', 'car', 'lion', 16])\n",
    "print(\"the list of integer is: \",result)"
   ]
  }
 ],
 "metadata": {
  "kernelspec": {
   "display_name": "Python 3 (ipykernel)",
   "language": "python",
   "name": "python3"
  },
  "language_info": {
   "codemirror_mode": {
    "name": "ipython",
    "version": 3
   },
   "file_extension": ".py",
   "mimetype": "text/x-python",
   "name": "python",
   "nbconvert_exporter": "python",
   "pygments_lexer": "ipython3",
   "version": "3.10.6"
  }
 },
 "nbformat": 4,
 "nbformat_minor": 5
}

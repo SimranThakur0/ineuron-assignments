{
 "cells": [
  {
   "cell_type": "code",
   "execution_count": 4,
   "id": "788ba10e-e12d-4735-bac0-f2987343f09a",
   "metadata": {},
   "outputs": [
    {
     "name": "stdin",
     "output_type": "stream",
     "text": [
      "enter n :  77\n"
     ]
    },
    {
     "name": "stdout",
     "output_type": "stream",
     "text": [
      "0\n",
      "7\n",
      "14\n",
      "21\n",
      "28\n",
      "35\n",
      "42\n",
      "49\n",
      "56\n",
      "63\n",
      "70\n",
      "77\n"
     ]
    }
   ],
   "source": [
    "#answer_1 \n",
    "'''Define a class with a generator which can iterate the numbers, which are divisible by\n",
    "7, between a given range 0 and n.'''\n",
    "\n",
    "def fact(n):\n",
    "    for i in range(0,n+1):\n",
    "        if i%7==0:\n",
    "            print(i)\n",
    "n = int(input('enter n : '))\n",
    "fact(n)     \n",
    "     \n",
    "    "
   ]
  },
  {
   "cell_type": "code",
   "execution_count": 5,
   "id": "bef425c5-c9e8-4b4d-8e09-d3e3e5c9ab0f",
   "metadata": {},
   "outputs": [
    {
     "name": "stdin",
     "output_type": "stream",
     "text": [
      "Enter the sentence  uihjkkhuijj jhghyugiuhu\n"
     ]
    },
    {
     "name": "stdout",
     "output_type": "stream",
     "text": [
      "jhghyugiuhu:1\n",
      "uihjkkhuijj:1\n"
     ]
    }
   ],
   "source": [
    "#answer_2\n",
    "Sentence = input('Enter the sentence ').split()\n",
    "word = sorted(set(Sentence))     # sort alphbetically\n",
    "\n",
    "for i in word:\n",
    "    print(\"{0}:{1}\".format(i,Sentence.count(i)))"
   ]
  },
  {
   "cell_type": "code",
   "execution_count": 6,
   "id": "79bfafa6-deec-4b1e-9181-ab6244aac328",
   "metadata": {},
   "outputs": [
    {
     "name": "stdout",
     "output_type": "stream",
     "text": [
      "Male\n",
      "Female\n"
     ]
    }
   ],
   "source": [
    "#answer_3\n",
    "'''\n",
    "Define a class Person and its two child classes: Male and Female. All classes have a\n",
    "method getGender which can print Male for Male class and Female for Female\n",
    "class.\n",
    "'''\n",
    "class Person(object):\n",
    "    def getGender( self ):\n",
    "        return \"None\"\n",
    "\n",
    "class Male( Person ):\n",
    "    def getGender( self ):\n",
    "        return \"Male\"\n",
    "\n",
    "class Female( Person ):\n",
    "    def getGender( self ):\n",
    "        return \"Female\"\n",
    "\n",
    "ob_male = Male()\n",
    "ob_female= Female()\n",
    "print(ob_male.getGender())\n",
    "print(ob_female.getGender())\n",
    "    \n",
    "    \n",
    "    \n",
    "    \n",
    "    \n",
    "    \n",
    "    \n",
    "    "
   ]
  },
  {
   "cell_type": "code",
   "execution_count": 7,
   "id": "75b19146-0161-4ffe-b2f1-54abfee3f82a",
   "metadata": {},
   "outputs": [
    {
     "name": "stdout",
     "output_type": "stream",
     "text": [
      "I Play Hockey\n",
      "I Play Football\n",
      "I Love Hockey\n",
      "I Love Football\n",
      "You Play Hockey\n",
      "You Play Football\n",
      "You Love Hockey\n",
      "You Love Football\n"
     ]
    }
   ],
   "source": [
    "#answer_4\n",
    "subject=[\"I\", \"You\"]\n",
    "verb=[\"Play\", \"Love\"]\n",
    "obj=[\"Hockey\",\"Football\"]\n",
    "\n",
    "\n",
    "str_list = [(sub+\" \"+ vb + \" \" + ob) for sub in subject for vb in verb for ob in obj]\n",
    "for sentence in str_list:\n",
    "    print(sentence)"
   ]
  },
  {
   "cell_type": "code",
   "execution_count": null,
   "id": "44177477-b3d8-4945-924f-c054f324184b",
   "metadata": {},
   "outputs": [],
   "source": [
    "#answer_5\n",
    "import zlib\n",
    "str = 'hello world!hello world!hello world!hello world!'\n",
    "\n",
    "a = bytes(str, 'utf-8')\n",
    "b = zlib.compress(a)\n",
    "print(b)\n",
    "print(zlib.decompress(b))"
   ]
  },
  {
   "cell_type": "code",
   "execution_count": null,
   "id": "d98bff00-3897-4bbc-8c45-c918d0cb9158",
   "metadata": {},
   "outputs": [],
   "source": [
    "#answer_6\n",
    "from bisect import bisect_left\n",
    "  \n",
    "def BinarySearch(a, x):\n",
    "    i = bisect_left(a, x)\n",
    "    if i != len(a) and a[i] == x:\n",
    "        return i\n",
    "    else:\n",
    "        return -1 \n",
    "\n",
    "a = [1, 2, 4, 4, 8]\n",
    "x = int(4)\n",
    "res = BinarySearch(a, x)\n",
    "if res == -1:\n",
    "    print(x, \"is absent\")\n",
    "else:\n",
    "    print(\"First occurrence of\", x, \"is present at\", res)\n"
   ]
  }
 ],
 "metadata": {
  "kernelspec": {
   "display_name": "Python 3 (ipykernel)",
   "language": "python",
   "name": "python3"
  },
  "language_info": {
   "codemirror_mode": {
    "name": "ipython",
    "version": 3
   },
   "file_extension": ".py",
   "mimetype": "text/x-python",
   "name": "python",
   "nbconvert_exporter": "python",
   "pygments_lexer": "ipython3",
   "version": "3.10.6"
  }
 },
 "nbformat": 4,
 "nbformat_minor": 5
}

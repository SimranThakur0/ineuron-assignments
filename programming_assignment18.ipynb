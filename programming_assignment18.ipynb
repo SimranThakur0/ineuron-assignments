{
 "cells": [
  {
   "cell_type": "code",
   "execution_count": 1,
   "id": "8fba255c-e6fe-486a-9f51-9381b7108d71",
   "metadata": {},
   "outputs": [
    {
     "name": "stdout",
     "output_type": "stream",
     "text": [
      "[1, 2, 3, 4]\n"
     ]
    }
   ],
   "source": [
    "''' ANSWER 1: Create a function that takes a list of non-negative integers and strings and return a new list\n",
    "without the strings.'''\n",
    "\n",
    "l = [1,2,3,'a','b',4,'F']\n",
    "\n",
    "def filter_list(l):\n",
    "    new_list = []\n",
    "    for x in l:\n",
    "        if type(x) == int:\n",
    "            new_list.append(x)\n",
    "    return new_list\n",
    "\n",
    "print(filter_list(l))"
   ]
  },
  {
   "cell_type": "code",
   "execution_count": 2,
   "id": "5a51357d-166e-413c-ab2d-9339c307c5a7",
   "metadata": {},
   "outputs": [
    {
     "name": "stdin",
     "output_type": "stream",
     "text": [
      "enter a string:  matheMATics\n"
     ]
    },
    {
     "name": "stdout",
     "output_type": "stream",
     "text": [
      "SCItamEHTAM\n"
     ]
    }
   ],
   "source": [
    "''' ANSWER 2: The \"Reverser\" takes a string as input and returns that string in reverse order, with the\n",
    "opposite case.'''\n",
    "\n",
    "def reverse(str):\n",
    "    str = str[::-1]\n",
    "    return str.swapcase()\n",
    "\n",
    "str= input(\"enter a string: \")\n",
    "print(reverse(str))"
   ]
  },
  {
   "cell_type": "code",
   "execution_count": 7,
   "id": "5aa74c5a-2941-4584-96d4-6471aadf794e",
   "metadata": {},
   "outputs": [
    {
     "name": "stdout",
     "output_type": "stream",
     "text": [
      "middle element is:  [2, 3, 4, 5]\n",
      "first element is:  1\n",
      "last element is:  6\n"
     ]
    }
   ],
   "source": [
    "''' ANSWER 3: Your task is to unpack the list writeyourcodehere into three variables, being first,\n",
    "middle, and last, with middle being everything in between the first and last element. Then\n",
    "print all three variables.'''\n",
    "\n",
    "lst = [1, 2, 3, 4, 5, 6]\n",
    "first = lst[0]\n",
    "middle = lst[1:-1]\n",
    "last = lst[-1]\n",
    "print(\"middle element is: \", middle)\n",
    "print(\"first element is: \", first)\n",
    "print(\"last element is: \", last)\n"
   ]
  },
  {
   "cell_type": "code",
   "execution_count": 8,
   "id": "c64c8901-8de8-42a8-91fc-beb0e0e97c6c",
   "metadata": {},
   "outputs": [
    {
     "name": "stdin",
     "output_type": "stream",
     "text": [
      "enter a number : 5\n"
     ]
    },
    {
     "name": "stdout",
     "output_type": "stream",
     "text": [
      "Factorial of 5 is 120\n"
     ]
    }
   ],
   "source": [
    "'''ANSWER 4: Write a function that calculates the factorial of a number recursively.'''\n",
    "\n",
    "def factorial(n):     \n",
    "    if n == 0:\n",
    "        return 1    \n",
    "    return n * factorial(n-1)\n",
    "\n",
    "num = int(input('enter a number :'))\n",
    "print(\"Factorial of\", num, \"is\", factorial(num))"
   ]
  },
  {
   "cell_type": "code",
   "execution_count": null,
   "id": "20800654-b3f2-443b-8800-ee17d0a99327",
   "metadata": {},
   "outputs": [],
   "source": [
    "'''ANSWER 5: Write a function that moves all elements of one type to the end of the list.'''\n",
    "\n",
    "def move_to_end(array, toMove):\n",
    "    i = 0\n",
    "    j = len(array) - 1\n",
    "    while (i < j):\n",
    "        while (i < j and array[j] == toMove):\n",
    "            j-=1\n",
    "            if (array[i] == toMove):\n",
    "                array[i], array[j] = array[j] , array[i]\n",
    "                i += 1\n",
    "    return array\n",
    "\n",
    "arr = [7, 8, 9, 1, 2, 3, 4]\n",
    "a = 9\n",
    "ans = move_to_end(arr, a)\n",
    "for i in range(len(arr)):\n",
    "    print(ans[i] ,end= \" \")"
   ]
  },
  {
   "cell_type": "code",
   "execution_count": null,
   "id": "412fad0b-bd85-42b8-93fb-da4e6ad257b7",
   "metadata": {},
   "outputs": [],
   "source": []
  }
 ],
 "metadata": {
  "kernelspec": {
   "display_name": "Python 3 (ipykernel)",
   "language": "python",
   "name": "python3"
  },
  "language_info": {
   "codemirror_mode": {
    "name": "ipython",
    "version": 3
   },
   "file_extension": ".py",
   "mimetype": "text/x-python",
   "name": "python",
   "nbconvert_exporter": "python",
   "pygments_lexer": "ipython3",
   "version": "3.10.6"
  }
 },
 "nbformat": 4,
 "nbformat_minor": 5
}

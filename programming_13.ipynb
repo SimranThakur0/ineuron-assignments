{
 "cells": [
  {
   "cell_type": "code",
   "execution_count": 1,
   "id": "3f78e52b-895b-4dfc-814c-4542a523ab22",
   "metadata": {},
   "outputs": [
    {
     "name": "stdin",
     "output_type": "stream",
     "text": [
      "Provide D in with comma separated:  5,7,9\n"
     ]
    },
    {
     "name": "stdout",
     "output_type": "stream",
     "text": [
      "4,5,5\n"
     ]
    }
   ],
   "source": [
    "#answer1\n",
    "import math\n",
    "\n",
    "values = input(\"Provide D in with comma separated: \")\n",
    "values = values.split(',')\n",
    "\n",
    "final = []\n",
    "\n",
    "for D in values:\n",
    "    A = round(math.sqrt(2 * 50 * int(D) / 30))\n",
    "    final.append(str(A))\n",
    "    \n",
    "print(','.join(final))"
   ]
  },
  {
   "cell_type": "code",
   "execution_count": 6,
   "id": "432ac361-8aa4-40c7-a856-3a489cf6435a",
   "metadata": {},
   "outputs": [
    {
     "name": "stdin",
     "output_type": "stream",
     "text": [
      "enter the first number 3\n",
      "enter the second number 4\n"
     ]
    },
    {
     "data": {
      "text/plain": [
       "[[0, 0, 0, 0], [0, 1, 2, 3], [0, 2, 4, 6]]"
      ]
     },
     "execution_count": 6,
     "metadata": {},
     "output_type": "execute_result"
    }
   ],
   "source": [
    "#answer2\n",
    "def arr_ss(m,n):\n",
    "    arr=[]             \n",
    "    for i in range(m):\n",
    "        row =[]\n",
    "        for j in range(n):\n",
    "            row.append(i*j)\n",
    "        arr.append(row)\n",
    "    return(arr)\n",
    "            \n",
    "\n",
    "a = int(input(\"enter the first number\"))\n",
    "b = int(input(\"enter the second number\"))\n",
    "arr_ss(a,b)\n",
    "\n"
   ]
  },
  {
   "cell_type": "code",
   "execution_count": 11,
   "id": "0af43030-88c1-46db-beb3-2b23797a1e3e",
   "metadata": {},
   "outputs": [
    {
     "name": "stdin",
     "output_type": "stream",
     "text": [
      "Enter comma seperated words  khkj,hyfy,utuf,tfyf\n"
     ]
    },
    {
     "name": "stdout",
     "output_type": "stream",
     "text": [
      "hyfy,khkj,tfyf,utuf\n"
     ]
    }
   ],
   "source": [
    "#answer 3\n",
    "\n",
    "words=[x for x in input('Enter comma seperated words ').split(',')]\n",
    "words.sort()   \n",
    "print(','.join(words))\n",
    "\n",
    "\n",
    "\n",
    "\n"
   ]
  },
  {
   "cell_type": "code",
   "execution_count": 13,
   "id": "beb1a516-72ba-4639-8589-7029d29e91ef",
   "metadata": {},
   "outputs": [
    {
     "name": "stdin",
     "output_type": "stream",
     "text": [
      "Enter comma seperated words  rr kdjd rr ifg 4 dhd\n"
     ]
    },
    {
     "name": "stdout",
     "output_type": "stream",
     "text": [
      "rr 4 kdjd ifg dhd\n"
     ]
    }
   ],
   "source": [
    "#answer 4\n",
    "words=[x for x in input('Enter whitespace seperated words ').split(' ')]\n",
    "words.sort()   \n",
    "print(' '.join(list(set((words)))))\n"
   ]
  },
  {
   "cell_type": "code",
   "execution_count": 14,
   "id": "98e14b31-b015-4147-95cf-b42e0969f6e0",
   "metadata": {},
   "outputs": [
    {
     "name": "stdin",
     "output_type": "stream",
     "text": [
      "Input a string :  hello! total 5 mmbers \n"
     ]
    },
    {
     "name": "stdout",
     "output_type": "stream",
     "text": [
      "Letters 16\n",
      "Digits 1\n"
     ]
    }
   ],
   "source": [
    "#answer 5\n",
    "a = input(\"Input a string : \")\n",
    "digits=letters=0\n",
    "for i in a:\n",
    "    if i.isdigit():\n",
    "        digits += 1\n",
    "    elif i.isalpha():\n",
    "        letters += 1\n",
    "    else:\n",
    "        pass\n",
    "print(\"Letters\", letters)\n",
    "print(\"Digits\", digits)"
   ]
  },
  {
   "cell_type": "code",
   "execution_count": 17,
   "id": "bf5c5b3b-855a-41cb-a19a-bbbc6940cafd",
   "metadata": {},
   "outputs": [
    {
     "name": "stdin",
     "output_type": "stream",
     "text": [
      "Enter a sequence of comma separated password :  ABd1234@1,augyfy\n"
     ]
    },
    {
     "name": "stdout",
     "output_type": "stream",
     "text": [
      "Not a Valid Password\n"
     ]
    }
   ],
   "source": [
    "#answer 6\n",
    "import re\n",
    "password = input(\"Enter a sequence of comma separated password : \")\n",
    "x = True\n",
    "while x:  \n",
    "    if (len(password) < 6 or len(password) > 12):\n",
    "        break\n",
    "    elif not re.search(\"[a-z]\",password):\n",
    "        break\n",
    "    elif not re.search(\"[0-9]\",password):\n",
    "        break\n",
    "    elif not re.search(\"[A-Z]\",password):\n",
    "        break\n",
    "    elif not re.search(\"[$#@]\",password):\n",
    "        break\n",
    "    elif re.search(\"\\s\",password):\n",
    "        break\n",
    "    else:\n",
    "        print(\"Valid Password\")\n",
    "        x=False\n",
    "        break\n",
    "\n",
    "if x:\n",
    "    print(\"Not a Valid Password\")"
   ]
  },
  {
   "cell_type": "code",
   "execution_count": null,
   "id": "5f12149c-116a-47a6-9cc7-77649859fa4d",
   "metadata": {},
   "outputs": [],
   "source": []
  }
 ],
 "metadata": {
  "kernelspec": {
   "display_name": "Python 3 (ipykernel)",
   "language": "python",
   "name": "python3"
  },
  "language_info": {
   "codemirror_mode": {
    "name": "ipython",
    "version": 3
   },
   "file_extension": ".py",
   "mimetype": "text/x-python",
   "name": "python",
   "nbconvert_exporter": "python",
   "pygments_lexer": "ipython3",
   "version": "3.10.6"
  }
 },
 "nbformat": 4,
 "nbformat_minor": 5
}

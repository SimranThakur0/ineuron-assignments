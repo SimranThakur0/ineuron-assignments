{
 "cells": [
  {
   "cell_type": "code",
   "execution_count": 2,
   "id": "49797898-7b53-4998-ab2f-f1ec08dff728",
   "metadata": {},
   "outputs": [
    {
     "name": "stdout",
     "output_type": "stream",
     "text": [
      "[6, 10, 12]\n",
      "[11, 11, 10]\n",
      "[12, 11, 7]\n"
     ]
    }
   ],
   "source": [
    "#answer_1 Write a Python Program to Add Two Matrices\n",
    "x= [[1,4,5],\n",
    "    [4,6,7],\n",
    "    [8,9,4]]\n",
    "\n",
    "y = [[5,6,7],\n",
    "     [7,5,3],\n",
    "     [4,2,3]]\n",
    "\n",
    "result = [[x[i][j]+y[i][j] for j in range(len(x[0]))] for i in range(len(x))]\n",
    "\n",
    "for r in result:\n",
    "    print(r)"
   ]
  },
  {
   "cell_type": "code",
   "execution_count": 7,
   "id": "867ab9ea-5964-4519-8710-77f6ab1c898a",
   "metadata": {},
   "outputs": [
    {
     "name": "stdout",
     "output_type": "stream",
     "text": [
      "[53, 36, 34]\n",
      "[90, 68, 67]\n",
      "[119, 101, 95]\n"
     ]
    }
   ],
   "source": [
    "#answer_2 Write a Python Program to Multiply Two Matrices\n",
    "x= [[1,4,5],\n",
    "    [4,6,7],\n",
    "    [8,9,4]]\n",
    "\n",
    "y = [[5,6,7],\n",
    "     [7,5,3],\n",
    "     [4,2,3]]\n",
    "\n",
    "result = [[0,0,0],\n",
    "         [0,0,0],\n",
    "         [0,0,0]]\n",
    "\n",
    "for i in range(len(x)):\n",
    "   for j in range(len(y[0])):\n",
    "       for k in range(len(y)):\n",
    "           result[i][j] += x[i][k] * y[k][j]\n",
    "\n",
    "for r in result:\n",
    "    print(r)"
   ]
  },
  {
   "cell_type": "code",
   "execution_count": 8,
   "id": "7b6d83f1-44d5-4101-bcad-93d82fdc37ce",
   "metadata": {},
   "outputs": [
    {
     "name": "stdout",
     "output_type": "stream",
     "text": [
      "[12, 4, 3]\n",
      "[7, 5, 8]\n"
     ]
    }
   ],
   "source": [
    "#answer_3 Write a Python Program to Transpose a Matrix\n",
    "\n",
    "X = [[12,7],\n",
    "    [4 ,5],\n",
    "    [3 ,8]]\n",
    "\n",
    "result = [[0,0,0],\n",
    "         [0,0,0]]\n",
    "\n",
    "for i in range(len(X)):\n",
    "   for j in range(len(X[0])):\n",
    "       result[j][i] = X[i][j]\n",
    "\n",
    "for r in result:\n",
    "   print(r)"
   ]
  },
  {
   "cell_type": "code",
   "execution_count": 9,
   "id": "a7fe028d-5fb2-454a-a510-8dbac391f8b2",
   "metadata": {},
   "outputs": [
    {
     "name": "stdin",
     "output_type": "stream",
     "text": [
      "Enter a string:  hello MY SELF SIMRAN\n"
     ]
    },
    {
     "name": "stdout",
     "output_type": "stream",
     "text": [
      "The sorted words are:\n",
      "hello\n",
      "my\n",
      "self\n",
      "simran\n"
     ]
    }
   ],
   "source": [
    "#answer_4 Write a Python Program to Sort Words in Alphabetic Order\n",
    "my_str = input(\"Enter a string: \")\n",
    "words = [word.lower() for word in my_str.split()]\n",
    "words.sort()\n",
    "\n",
    "print(\"The sorted words are:\")\n",
    "for word in words:\n",
    "   print(word)"
   ]
  },
  {
   "cell_type": "code",
   "execution_count": 11,
   "id": "2b587ae2-929e-4075-8ee7-99005632b9b4",
   "metadata": {},
   "outputs": [
    {
     "name": "stdout",
     "output_type": "stream",
     "text": [
      " Hello he said and went\n"
     ]
    }
   ],
   "source": [
    "#answer_5 Write a Python Program to Remove Punctuation From a String?\n",
    "\n",
    "punctuations = '''!()-[]{};:'\"\\,<>./?@#$%^&*_~'''\n",
    "\n",
    "my_str = \"Hello!!!, he said ---and went.\"\n",
    "no_punct = \" \"\n",
    "\n",
    "for char in my_str:\n",
    "   if char not in punctuations:\n",
    "       no_punct = no_punct + char\n",
    "\n",
    "print(no_punct)"
   ]
  }
 ],
 "metadata": {
  "kernelspec": {
   "display_name": "Python 3 (ipykernel)",
   "language": "python",
   "name": "python3"
  },
  "language_info": {
   "codemirror_mode": {
    "name": "ipython",
    "version": 3
   },
   "file_extension": ".py",
   "mimetype": "text/x-python",
   "name": "python",
   "nbconvert_exporter": "python",
   "pygments_lexer": "ipython3",
   "version": "3.10.6"
  }
 },
 "nbformat": 4,
 "nbformat_minor": 5
}

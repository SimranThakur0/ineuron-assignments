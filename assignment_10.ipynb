{
  "nbformat": 4,
  "nbformat_minor": 0,
  "metadata": {
    "colab": {
      "provenance": [],
      "authorship_tag": "ABX9TyMOYAvYJkDrbXwbnhGzFaiP",
      "include_colab_link": true
    },
    "kernelspec": {
      "name": "python3",
      "display_name": "Python 3"
    },
    "language_info": {
      "name": "python"
    }
  },
  "cells": [
    {
      "cell_type": "markdown",
      "metadata": {
        "id": "view-in-github",
        "colab_type": "text"
      },
      "source": [
        "<a href=\"https://colab.research.google.com/github/SimranThakur0/ineuron-assignments/blob/main/assignment_10.ipynb\" target=\"_parent\"><img src=\"https://colab.research.google.com/assets/colab-badge.svg\" alt=\"Open In Colab\"/></a>"
      ]
    },
    {
      "cell_type": "code",
      "execution_count": null,
      "metadata": {
        "id": "KdFXPnDZlmr4"
      },
      "outputs": [],
      "source": []
    },
    {
      "cell_type": "markdown",
      "source": [
        "1. How do you distinguish between shutil.copy() and shutil.copytree()?\n",
        "\n",
        "ANSWER: The shutil.copy() function will copy a single file, while shutil.copytree() will copy an entire folder, along with all its contents.\n",
        "\n",
        "2. What function is used to rename files??\n",
        "\n",
        "ANSWER: The shutil.move() function is used for renaming files, as well as moving them.\n",
        "\n",
        "3. What is the difference between the delete functions in the send2trash and shutil modules?\n",
        "\n",
        "ANSWER: The send2trash functions will move a file or folder to the recycle bin, while shutil functions will permanently delete files and folders.\n",
        "\n",
        "4. ZipFile objects have a close() method just like File objects’ close() method. What ZipFile method is equivalent to File objects’ open() method?\n",
        "\n",
        "ANSWER: The zipfile.ZipFile() function is equivalent to the open() function; the first argument is the filename, and the second argument is the mode to open the ZIP file in (read, write, or append).\n",
        "\n",
        "5. Create a programme that searches a folder tree for files with a certain file extension (such as .pdf or .jpg). Copy these files from whatever location they are in to a new folder. \n",
        "\n"
      ],
      "metadata": {
        "id": "YRd2Xv_hltNI"
      }
    },
    {
      "cell_type": "code",
      "source": [
        "#ANSWER 5:\n",
        "import os, shutil\n",
        "\n",
        "def selectiveCopy(folder, extensions, destFolder):\n",
        "\tfolder = os.path.abspath(folder)\n",
        "\tdestFolder = os.path.abspath(destFolder)\n",
        "\tprint('Looking in', folder, 'for files with extensions of', ', '.join(extensions))\n",
        "\tfor foldername, subfolders, filenames in os.walk(folder):\n",
        "\t\tfor filename in filenames:\n",
        "\t\t\tname, extension = os.path.splitext(filename)\n",
        "\t\t\tif extension in extensions:\n",
        "\t\t\t\tfileAbsPath = foldername + os.path.sep + filename\n",
        "\t\t\t\tprint('Coping', fileAbsPath, 'to', destFolder)\n",
        "\t\t\t\tshutil.copy(fileAbsPath, destFolder)\n",
        "\n",
        "extensions = ['.php', '.py']\n",
        "folder = 'randomFolder'\n",
        "destFolder = 'selectiveFolder'\n",
        "selectiveCopy(folder, extensions, destFolder)"
      ],
      "metadata": {
        "id": "AHpSot4SlytL",
        "colab": {
          "base_uri": "https://localhost:8080/"
        },
        "outputId": "64239a69-3ac6-4f7a-a29d-b43b19ed1a4e"
      },
      "execution_count": 2,
      "outputs": [
        {
          "output_type": "stream",
          "name": "stdout",
          "text": [
            "Looking in /content/randomFolder for files with extensions of .php, .py\n"
          ]
        }
      ]
    }
  ]
}
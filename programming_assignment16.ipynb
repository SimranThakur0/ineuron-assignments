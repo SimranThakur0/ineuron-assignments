{
 "cells": [
  {
   "cell_type": "code",
   "execution_count": 1,
   "id": "30f42c27-ab8f-4996-8830-a8cb09cbab74",
   "metadata": {},
   "outputs": [
    {
     "name": "stdin",
     "output_type": "stream",
     "text": [
      "Enter word :  simran\n"
     ]
    },
    {
     "name": "stdout",
     "output_type": "stream",
     "text": [
      "si... si... simran?\n"
     ]
    }
   ],
   "source": [
    "#answer 1\n",
    "def stutter(word):\n",
    "    return (2*(word[:2]+'... '))+word+'?'\n",
    "word = input('Enter word : ')\n",
    "print(stutter(word))"
   ]
  },
  {
   "cell_type": "code",
   "execution_count": 2,
   "id": "3d9e32fe-0550-4fdc-8ebc-6a5c0e298490",
   "metadata": {},
   "outputs": [
    {
     "name": "stdin",
     "output_type": "stream",
     "text": [
      "Enter the Radian :  45\n"
     ]
    },
    {
     "name": "stdout",
     "output_type": "stream",
     "text": [
      "degree = 2578.3122558959\n"
     ]
    }
   ],
   "source": [
    "#answer 2\n",
    "def radians_to_degrees(radian):\n",
    "    pi = 3.14159\n",
    "    degree = radian * (180/pi)\n",
    "    return degree\n",
    "radian = float(input('Enter the Radian : '))\n",
    "print(\"degree =\",(radians_to_degrees(radian)))"
   ]
  },
  {
   "cell_type": "code",
   "execution_count": 4,
   "id": "5bacb179-02fa-4132-8619-9014fc6c989e",
   "metadata": {},
   "outputs": [
    {
     "name": "stdin",
     "output_type": "stream",
     "text": [
      "Enter a number :  5\n"
     ]
    },
    {
     "name": "stdout",
     "output_type": "stream",
     "text": [
      "5 is Curzon Number\n"
     ]
    }
   ],
   "source": [
    "#answer 3\n",
    "def CurzonNumber(n):\n",
    " \n",
    "    power, product = 0, 0\n",
    "    power = pow(2, n) + 1\n",
    "    product = 2 * n + 1\n",
    " \n",
    "    if (power % product == 0):\n",
    "        print(n, \"is Curzon Number\")\n",
    "    else:\n",
    "        print(n, \"is not a Curzon Number\")\n",
    "        \n",
    "n = int(input('Enter a number : '))\n",
    "CurzonNumber(n)\n",
    "    \n",
    "    "
   ]
  },
  {
   "cell_type": "code",
   "execution_count": 5,
   "id": "9ef8df1f-7cb7-4fa7-9b7f-ad72ed557762",
   "metadata": {},
   "outputs": [
    {
     "name": "stdin",
     "output_type": "stream",
     "text": [
      "Enter the length :  7\n"
     ]
    },
    {
     "name": "stdout",
     "output_type": "stream",
     "text": [
      "Area: 127.30573435631248\n"
     ]
    }
   ],
   "source": [
    "#answer 4\n",
    "\n",
    "import math\n",
    "def area_of_hexagon(s):     \n",
    "    return ((3 * math.sqrt(3) * (sideLength * sideLength)) / 2);\n",
    "     \n",
    "\n",
    "sideLength = float(input('Enter the length : '))\n",
    "\n",
    "print(\"Area:\",(area_of_hexagon(sideLength)))"
   ]
  },
  {
   "cell_type": "code",
   "execution_count": null,
   "id": "766293a7-d801-4941-b9ce-4ac79d85fa63",
   "metadata": {},
   "outputs": [],
   "source": [
    "#answer 5\n",
    "\n",
    "def decimalToBinary(n):\n",
    "    return bin(n).replace(\"0b\", \"\")\n",
    "n = int(input(\"enter the number you wanna convert: \"))\n",
    "print(decimalToBinary(i))"
   ]
  }
 ],
 "metadata": {
  "kernelspec": {
   "display_name": "Python 3 (ipykernel)",
   "language": "python",
   "name": "python3"
  },
  "language_info": {
   "codemirror_mode": {
    "name": "ipython",
    "version": 3
   },
   "file_extension": ".py",
   "mimetype": "text/x-python",
   "name": "python",
   "nbconvert_exporter": "python",
   "pygments_lexer": "ipython3",
   "version": "3.10.6"
  }
 },
 "nbformat": 4,
 "nbformat_minor": 5
}

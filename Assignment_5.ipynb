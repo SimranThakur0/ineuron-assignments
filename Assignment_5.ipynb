{
  "nbformat": 4,
  "nbformat_minor": 0,
  "metadata": {
    "colab": {
      "provenance": [],
      "collapsed_sections": []
    },
    "kernelspec": {
      "name": "python3",
      "display_name": "Python 3"
    },
    "language_info": {
      "name": "python"
    }
  },
  "cells": [
    {
      "cell_type": "markdown",
      "source": [
        "1. What does an empty dictionary's code look like?\n",
        "ANSWER1: \n",
        "2. What is the value of a dictionary value with the key 'foo' and the value 42?\n",
        "3. What is the most significant distinction between a dictionary and a list?\n",
        "4. What happens if you try to access spam['foo'] if spam is {'bar': 100}?\n",
        "5. If a dictionary is stored in spam, what is the difference between the expressions 'cat' in spam and 'cat' in spam.keys()?\n",
        "6. If a dictionary is stored in spam, what is the difference between the expressions 'cat' in spam and 'cat' in spam.values()?\n",
        "7. What is a shortcut for the following code?\n",
        "if 'color' not in spam:\n",
        "spam['color'] = 'black'\n",
        "\n",
        "8. How do you \"pretty print\" dictionary values using which module and function?\n",
        "\n"
      ],
      "metadata": {
        "id": "3AoQUoExRle0"
      }
    },
    {
      "cell_type": "code",
      "source": [
        "#ANSWER 1\n",
        "item = dict()\n",
        "#or\n",
        "item = {}"
      ],
      "metadata": {
        "id": "EFZuB0KER9dk"
      },
      "execution_count": 1,
      "outputs": []
    },
    {
      "cell_type": "code",
      "source": [
        "#ANSWER 2\n",
        "{'foo':42}"
      ],
      "metadata": {
        "colab": {
          "base_uri": "https://localhost:8080/"
        },
        "id": "F_dwSCB6SqPi",
        "outputId": "c8f14d37-7238-4401-b1e2-50944869a519"
      },
      "execution_count": 2,
      "outputs": [
        {
          "output_type": "execute_result",
          "data": {
            "text/plain": [
              "{'foo': 42}"
            ]
          },
          "metadata": {},
          "execution_count": 2
        }
      ]
    },
    {
      "cell_type": "markdown",
      "source": [
        "ANSWER 3: The items stored in a dictionary are unordered, while the items in a list are ordered."
      ],
      "metadata": {
        "id": "uhyNQ5ObS_K-"
      }
    },
    {
      "cell_type": "markdown",
      "source": [
        "ANSWER 4: You get a KeyError error, if you try to access spam['foo'] if spam is {'bar': 100}."
      ],
      "metadata": {
        "id": "MMKF7DjMW7tm"
      }
    },
    {
      "cell_type": "markdown",
      "source": [
        "ANSWER 5: There is no difference. The in operator checks whether a value exists as a key in the dictionary."
      ],
      "metadata": {
        "id": "6zJ4axjoYBUq"
      }
    },
    {
      "cell_type": "markdown",
      "source": [
        "ANSWER 6:cat' in spam checks whether there is a 'cat' key in the dictionary, while 'cat' in spam.values() checks whether there is a value 'cat' for one of the keys in spam"
      ],
      "metadata": {
        "id": "lx7Pw0xgYODk"
      }
    },
    {
      "cell_type": "markdown",
      "source": [
        "ANSWER 7: spam.setdefault('color', 'black')"
      ],
      "metadata": {
        "id": "BKSSF3vDY4dD"
      }
    },
    {
      "cell_type": "markdown",
      "source": [
        "ANSWER 8: pprint.pprint()"
      ],
      "metadata": {
        "id": "EZJ8zb6AZBi_"
      }
    }
  ]
}
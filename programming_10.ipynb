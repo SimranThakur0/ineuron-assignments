{
 "cells": [
  {
   "cell_type": "code",
   "execution_count": 1,
   "id": "67bbed82-127f-47dd-b8b5-b638db6c673a",
   "metadata": {},
   "outputs": [
    {
     "name": "stdin",
     "output_type": "stream",
     "text": [
      "Enter the lenth of your list :  6\n",
      " 2\n",
      " 4\n",
      " 5\n",
      " 6\n",
      " 7\n",
      " 8\n"
     ]
    },
    {
     "name": "stdout",
     "output_type": "stream",
     "text": [
      "The List is  [2, 4, 5, 6, 7, 8]\n",
      "Sum of elements in List 32\n"
     ]
    }
   ],
   "source": [
    "#answer_1 Write a Python program to find sum of elements in list?\n",
    "\n",
    "n = int(input(\"Enter the lenth of your list : \"))\n",
    "lst = []\n",
    "\n",
    "for i in range(n):\n",
    "    lst.append(int(input()))\n",
    "print(\"The List is \",lst)\n",
    "print(\"Sum of elements in List\",sum(lst))"
   ]
  },
  {
   "cell_type": "code",
   "execution_count": 2,
   "id": "e7fb7150-01f3-44ff-a03a-6bac89df8609",
   "metadata": {},
   "outputs": [
    {
     "name": "stdin",
     "output_type": "stream",
     "text": [
      "Enter the lenth of your list :  4\n",
      " 3\n",
      " 5\n",
      " 6\n",
      " 7\n"
     ]
    },
    {
     "name": "stdout",
     "output_type": "stream",
     "text": [
      "The List is  [3, 5, 6, 7]\n",
      "Product of elements in List is : 630\n"
     ]
    }
   ],
   "source": [
    "#answer_2 Write a Python program to Multiply all numbers in the list?\n",
    "\n",
    "n = int(input(\"Enter the lenth of your list : \"))\n",
    "lst = []\n",
    "\n",
    "for i in range(n):\n",
    "    lst.append(int(input()))\n",
    "print(\"The List is \",lst)\n",
    "product = 1\n",
    "for i in lst:\n",
    "    product = product*i\n",
    "print(\"Product of elements in List is :\",product)"
   ]
  },
  {
   "cell_type": "code",
   "execution_count": 3,
   "id": "683b9a96-766e-4368-9e3f-989bb81e7478",
   "metadata": {},
   "outputs": [
    {
     "name": "stdin",
     "output_type": "stream",
     "text": [
      "Enter the lenth of your list :  4\n",
      " 6\n",
      " 7\n",
      " 9\n",
      " 4\n"
     ]
    },
    {
     "name": "stdout",
     "output_type": "stream",
     "text": [
      "The List is  [6, 7, 9, 4]\n",
      "The Smallest no. in the list is : 4\n"
     ]
    }
   ],
   "source": [
    "#answer_3 Write a Python program to find smallest number in a list?\n",
    "n = int(input(\"Enter the lenth of your list : \"))\n",
    "lst = []\n",
    "\n",
    "for i in range(n):\n",
    "    lst.append(int(input()))\n",
    "print(\"The List is \",lst)\n",
    "print(\"The Smallest no. in the list is :\",min(lst))"
   ]
  },
  {
   "cell_type": "code",
   "execution_count": 4,
   "id": "147080d6-2d00-476a-a9eb-f8a195390685",
   "metadata": {},
   "outputs": [
    {
     "name": "stdin",
     "output_type": "stream",
     "text": [
      "Enter the lenth of your list :  3\n",
      " 5\n",
      " 7\n",
      " 9\n"
     ]
    },
    {
     "name": "stdout",
     "output_type": "stream",
     "text": [
      "The List is  [5, 7, 9]\n",
      "The largest no. in the list is : 9\n"
     ]
    }
   ],
   "source": [
    "#answer_4 Write a Python program to find largest number in a list?\n",
    "\n",
    "n = int(input(\"Enter the lenth of your list : \"))\n",
    "lst = []\n",
    "\n",
    "for i in range(n):\n",
    "    lst.append(int(input()))\n",
    "print(\"The List is \",lst)\n",
    "print(\"The largest no. in the list is :\",max(lst))"
   ]
  },
  {
   "cell_type": "code",
   "execution_count": 5,
   "id": "a8e396db-ec2e-4b12-b00a-93463c6ae1c5",
   "metadata": {},
   "outputs": [
    {
     "name": "stdin",
     "output_type": "stream",
     "text": [
      "Enter the lenth of your list :  4\n",
      " 3\n",
      " 5\n",
      " 6\n",
      " 8\n"
     ]
    },
    {
     "name": "stdout",
     "output_type": "stream",
     "text": [
      "The List is  [3, 5, 6, 8]\n",
      "The sorted list is  [3, 5, 6, 8]\n",
      "The second largest number in the list is  6\n"
     ]
    }
   ],
   "source": [
    "#answer_5 Write a Python program to find second largest number in a list?\n",
    "n = int(input(\"Enter the lenth of your list : \"))\n",
    "lst = []\n",
    "\n",
    "for i in range(n):\n",
    "    lst.append(int(input()))\n",
    "print(\"The List is \",lst)\n",
    "lst.sort()\n",
    "print(\"The sorted list is \",lst)\n",
    "print(\"The second largest number in the list is \",lst[-2])\n"
   ]
  },
  {
   "cell_type": "code",
   "execution_count": 6,
   "id": "3668a1a1-d6ae-4510-93b2-9a426e79f235",
   "metadata": {},
   "outputs": [
    {
     "name": "stdin",
     "output_type": "stream",
     "text": [
      "Enter the lenth of your list :  5\n",
      " 2\n",
      " 3\n",
      " 4\n",
      " 8\n",
      " 9\n"
     ]
    },
    {
     "name": "stdout",
     "output_type": "stream",
     "text": [
      "The List is  [2, 3, 4, 8, 9]\n",
      "The sorted list is  [2, 3, 4, 8, 9]\n"
     ]
    },
    {
     "name": "stdin",
     "output_type": "stream",
     "text": [
      "Enter how many largest number you want from list: 2\n"
     ]
    },
    {
     "name": "stdout",
     "output_type": "stream",
     "text": [
      "2 largest elements from the list are : [8, 9]\n"
     ]
    }
   ],
   "source": [
    "#answer_6 Write a Python program to find N largest elements from a list?\n",
    "\n",
    "n = int(input(\"Enter the lenth of your list : \"))\n",
    "lst = []\n",
    "\n",
    "for i in range(n):\n",
    "    lst.append(int(input()))\n",
    "print(\"The List is \",lst)\n",
    "lst.sort()\n",
    "print(\"The sorted list is \",lst)\n",
    "nlar = int(input(\"Enter how many largest number you want from list:\"))\n",
    "\n",
    "if n < nlar :\n",
    "    print(\"enterted value is larger then the length of list\")\n",
    "else:\n",
    "    print(nlar,\"largest elements from the list are :\",lst[(n-nlar):])"
   ]
  },
  {
   "cell_type": "code",
   "execution_count": 1,
   "id": "8ba4c22b-dcbb-488e-935f-cb10fc01e8f6",
   "metadata": {},
   "outputs": [
    {
     "name": "stdin",
     "output_type": "stream",
     "text": [
      "Enter  the len of the list : 4\n",
      " 7\n",
      " 9\n",
      " 8\n",
      " 6\n"
     ]
    },
    {
     "name": "stdout",
     "output_type": "stream",
     "text": [
      "The List is : [7, 9, 8, 6]\n",
      "The even numbers in list [8, 6]\n"
     ]
    }
   ],
   "source": [
    "#answer_7 Write a Python program to print even numbers in a list?\n",
    "\n",
    "lent =  int(input(\"Enter  the len of the list :\"))\n",
    "lst = []\n",
    "for i in  range(lent):\n",
    "  lst.append(int(input()))\n",
    "print(\"The List is :\" ,lst)\n",
    "even = [i for i in lst if i%2==0 ]\n",
    "print(\"The even numbers in list\" , even)"
   ]
  },
  {
   "cell_type": "code",
   "execution_count": 3,
   "id": "1138d245-c341-4d98-a966-6aa5684972c9",
   "metadata": {},
   "outputs": [
    {
     "name": "stdin",
     "output_type": "stream",
     "text": [
      "Enter  the len of the list : 4\n",
      " 7\n",
      " 5\n",
      " 8\n",
      " 2\n"
     ]
    },
    {
     "name": "stdout",
     "output_type": "stream",
     "text": [
      "The List is : [7, 5, 8, 2]\n",
      "The odd numbers in list [7, 5]\n"
     ]
    }
   ],
   "source": [
    "#answer_8 Write a Python program to print odd numbers in a List?\n",
    "\n",
    "lent =  int(input(\"Enter  the len of the list :\"))\n",
    "lst = []\n",
    "for i in  range(lent):\n",
    "  lst.append(int(input()))\n",
    "print(\"The List is :\" ,lst)\n",
    "odd = [i for i in lst if i%2 != 0 ]\n",
    "print(\"The odd numbers in list\" , odd)"
   ]
  },
  {
   "cell_type": "code",
   "execution_count": 4,
   "id": "30c8ca6b-e627-4021-970e-6a419ce3f702",
   "metadata": {},
   "outputs": [
    {
     "name": "stdout",
     "output_type": "stream",
     "text": [
      "The List : [55, [], 14, 75, [], 96, 80, [], 36]\n",
      "The list after removing empty lists : [55, 14, 75, 96, 80, 36]\n"
     ]
    }
   ],
   "source": [
    "#answer_9 Write a Python program to Remove empty List from List?\n",
    "\n",
    "lst = [55,[],14,75,[],96,80,[],36]\n",
    "print(\"The List :\",lst)\n",
    "new_list = [item for item in lst if item != []]\n",
    "print(\"The list after removing empty lists :\" , new_list)\n"
   ]
  },
  {
   "cell_type": "code",
   "execution_count": 5,
   "id": "2457eb89-3f55-4065-8a07-4dca6b6645f4",
   "metadata": {},
   "outputs": [
    {
     "name": "stdin",
     "output_type": "stream",
     "text": [
      "Enter the lenth of your list :  5\n",
      " 5\n",
      " 7\n",
      " 8\n",
      " 9\n",
      " 9\n"
     ]
    },
    {
     "name": "stdout",
     "output_type": "stream",
     "text": [
      "The List is  [5, 7, 8, 9, 9]\n",
      "Cloning By list copying lst  [5, 7, 8, 9, 9]\n"
     ]
    }
   ],
   "source": [
    "#answer_10 Write a Python program to Cloning or Copying a list?\n",
    "n = int(input(\"Enter the lenth of your list : \"))\n",
    "lst = []\n",
    "\n",
    "for i in range(n):\n",
    "    lst.append(int(input()))\n",
    "print(\"The List is \",lst)\n",
    "\n",
    "lst_copy = lst.copy()\n",
    "print(\"Cloning By list copying lst \",lst_copy)\n"
   ]
  },
  {
   "cell_type": "code",
   "execution_count": 7,
   "id": "6e895a0d-c679-4eb0-8587-16bc5a1a8655",
   "metadata": {},
   "outputs": [
    {
     "name": "stdin",
     "output_type": "stream",
     "text": [
      "Enter the lenth of your list :  4\n",
      " 6\n",
      " 7\n",
      " 6\n",
      " 8\n"
     ]
    },
    {
     "name": "stdout",
     "output_type": "stream",
     "text": [
      "The List is  [6, 7, 6, 8]\n"
     ]
    },
    {
     "name": "stdin",
     "output_type": "stream",
     "text": [
      "Enter the element to find its occurance :  6\n"
     ]
    },
    {
     "name": "stdout",
     "output_type": "stream",
     "text": [
      "6 has occured 2 times in the list \n"
     ]
    }
   ],
   "source": [
    "#answer_11 Write a Python program to Count occurrences of an element in a list?\n",
    "\n",
    "lent = int(input(\"Enter the lenth of your list : \"))\n",
    "lst = []\n",
    "\n",
    "for i in range(lent):\n",
    "    lst.append(int(input()))\n",
    "print(\"The List is \",lst)\n",
    "ele= int(input(\"Enter the element to find its occurance : \"))\n",
    "print(ele,\"has occured {} times in the list \".format(lst.count(ele)))\n"
   ]
  },
  {
   "cell_type": "code",
   "execution_count": null,
   "id": "29d340fa-a624-4a72-bcf4-c791021c692c",
   "metadata": {},
   "outputs": [],
   "source": []
  }
 ],
 "metadata": {
  "kernelspec": {
   "display_name": "Python 3 (ipykernel)",
   "language": "python",
   "name": "python3"
  },
  "language_info": {
   "codemirror_mode": {
    "name": "ipython",
    "version": 3
   },
   "file_extension": ".py",
   "mimetype": "text/x-python",
   "name": "python",
   "nbconvert_exporter": "python",
   "pygments_lexer": "ipython3",
   "version": "3.10.6"
  }
 },
 "nbformat": 4,
 "nbformat_minor": 5
}

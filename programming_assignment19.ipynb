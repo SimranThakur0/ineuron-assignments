{
 "cells": [
  {
   "cell_type": "code",
   "execution_count": 1,
   "id": "9ecbf744-ffa9-4a53-aec2-4cb47383739e",
   "metadata": {},
   "outputs": [
    {
     "name": "stdin",
     "output_type": "stream",
     "text": [
      "enter a string:  hello\n"
     ]
    },
    {
     "name": "stdout",
     "output_type": "stream",
     "text": [
      "hheelllloo\n"
     ]
    }
   ],
   "source": [
    "'''ANSWER: 1 Create a function that takes a string and returns a string in which each character is repeated\n",
    "once.'''\n",
    "\n",
    "def double_char(str):\n",
    "    return ''.join([c+c for c in str])\n",
    "str = input(\"enter a string: \")\n",
    "print(double_char(str))"
   ]
  },
  {
   "cell_type": "code",
   "execution_count": 2,
   "id": "4c90d41f-5133-49f7-8087-dd6cd78173e7",
   "metadata": {},
   "outputs": [
    {
     "name": "stdout",
     "output_type": "stream",
     "text": [
      "False\n",
      "True\n",
      "boolean expected\n",
      "boolean expected\n"
     ]
    }
   ],
   "source": [
    "'''ANSWER: 2 Create a function that reverses a boolean value and returns the string &quot;boolean expected&quot;\n",
    "if another variable type is given.'''\n",
    "\n",
    "def reverse(arg=None):\n",
    "    return not arg if type(arg) == bool else \"boolean expected\"\n",
    "\n",
    "print(reverse(True)) # False\n",
    "print(reverse(False)) # True\n",
    "print(reverse(0)) # \"boolean expected\"\n",
    "print(reverse(None))"
   ]
  },
  {
   "cell_type": "code",
   "execution_count": 6,
   "id": "5f193639-475e-47dd-a4e2-d345c861975e",
   "metadata": {},
   "outputs": [
    {
     "name": "stdin",
     "output_type": "stream",
     "text": [
      "enter the number of times u want to fold the paper:  6\n"
     ]
    },
    {
     "name": "stdout",
     "output_type": "stream",
     "text": [
      "Thickness (in meters) of a piece of paper after folding it is:  0.032 metres\n"
     ]
    }
   ],
   "source": [
    "'''ANSWER: 3 Create a function that returns the thickness (in meters) of a piece of paper after folding it n\n",
    "number of times. The paper starts off with a thickness of 0.5mm.'''\n",
    "\n",
    "def num_layers(n):\n",
    "    thickness = 0.5\n",
    "    for i in range(n):\n",
    "        thickness *= 2\n",
    "    \n",
    "    return (thickness / 1000)\n",
    "\n",
    "num = int(input(\"enter the number of times u want to fold the paper: \"))\n",
    "print(\"Thickness (in meters) of a piece of paper after folding it is: \",num_layers(num),\"metres\")"
   ]
  },
  {
   "cell_type": "code",
   "execution_count": 7,
   "id": "e19deb07-383b-46b8-836d-e8df8433f1cd",
   "metadata": {},
   "outputs": [
    {
     "name": "stdin",
     "output_type": "stream",
     "text": [
      "enter a string:  sIMraN\n"
     ]
    },
    {
     "name": "stdout",
     "output_type": "stream",
     "text": [
      "[1, 2, 5]\n"
     ]
    }
   ],
   "source": [
    "'''ANSWER: 4 Create a function that takes a single string as argument and returns an ordered list containing\n",
    "the indices of all capital letters in the string.'''\n",
    "\n",
    "def index_of_caps(word):\n",
    "    indices = []\n",
    "    for i in range(len(word)):\n",
    "        if word[i].isupper():\n",
    "             indices.append(i)\n",
    "    return indices\n",
    "\n",
    "str= input(\"enter a string: \")\n",
    "print(index_of_caps(str))"
   ]
  },
  {
   "cell_type": "code",
   "execution_count": 8,
   "id": "905075a0-12d9-4411-98a4-8610c4d222a0",
   "metadata": {},
   "outputs": [
    {
     "name": "stdin",
     "output_type": "stream",
     "text": [
      "Enter a number :  18\n"
     ]
    },
    {
     "data": {
      "text/plain": [
       "[2, 4, 6, 8, 10, 12, 14, 16, 18]"
      ]
     },
     "execution_count": 8,
     "metadata": {},
     "output_type": "execute_result"
    }
   ],
   "source": [
    "'''ANSWER: 5 Using list comprehensions, create a function that finds all even numbers from 1 to the given\n",
    "number.'''\n",
    "\n",
    "def find_even_nums(n):\n",
    "    even =[x for x in range(2,n+1) if x % 2 == 0]\n",
    "    return even\n",
    "\n",
    "n = int(input('Enter a number : '))\n",
    "find_even_nums(n)\n"
   ]
  },
  {
   "cell_type": "code",
   "execution_count": null,
   "id": "e85694b9-0b48-4d2a-895f-c017003629af",
   "metadata": {},
   "outputs": [],
   "source": []
  }
 ],
 "metadata": {
  "kernelspec": {
   "display_name": "Python 3 (ipykernel)",
   "language": "python",
   "name": "python3"
  },
  "language_info": {
   "codemirror_mode": {
    "name": "ipython",
    "version": 3
   },
   "file_extension": ".py",
   "mimetype": "text/x-python",
   "name": "python",
   "nbconvert_exporter": "python",
   "pygments_lexer": "ipython3",
   "version": "3.10.6"
  }
 },
 "nbformat": 4,
 "nbformat_minor": 5
}
